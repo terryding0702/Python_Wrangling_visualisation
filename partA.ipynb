{
 "cells": [
  {
   "cell_type": "code",
   "execution_count": 1,
   "metadata": {},
   "outputs": [],
   "source": [
    "import pandas as pd\n",
    "import matplotlib.pyplot as plt\n",
    "import numpy as np\n",
    "%matplotlib inline"
   ]
  },
  {
   "cell_type": "markdown",
   "metadata": {},
   "source": [
    "# A1"
   ]
  },
  {
   "cell_type": "code",
   "execution_count": 2,
   "metadata": {},
   "outputs": [
    {
     "data": {
      "text/html": [
       "<div>\n",
       "<style scoped>\n",
       "    .dataframe tbody tr th:only-of-type {\n",
       "        vertical-align: middle;\n",
       "    }\n",
       "\n",
       "    .dataframe tbody tr th {\n",
       "        vertical-align: top;\n",
       "    }\n",
       "\n",
       "    .dataframe thead th {\n",
       "        text-align: right;\n",
       "    }\n",
       "</style>\n",
       "<table border=\"1\" class=\"dataframe\">\n",
       "  <thead>\n",
       "    <tr style=\"text-align: right;\">\n",
       "      <th></th>\n",
       "      <th>Year</th>\n",
       "      <th>Afghanistan</th>\n",
       "      <th>Albania</th>\n",
       "      <th>Algeria</th>\n",
       "      <th>Andorra</th>\n",
       "      <th>Angola</th>\n",
       "      <th>Antigua and Barbuda</th>\n",
       "      <th>Argentina</th>\n",
       "      <th>Armenia</th>\n",
       "      <th>Australia</th>\n",
       "      <th>...</th>\n",
       "      <th>United Kingdom</th>\n",
       "      <th>United States</th>\n",
       "      <th>Uruguay</th>\n",
       "      <th>Uzbekistan</th>\n",
       "      <th>Vanuatu</th>\n",
       "      <th>Venezuela</th>\n",
       "      <th>Vietnam</th>\n",
       "      <th>Yemen</th>\n",
       "      <th>Zambia</th>\n",
       "      <th>Zimbabwe</th>\n",
       "    </tr>\n",
       "  </thead>\n",
       "  <tbody>\n",
       "    <tr>\n",
       "      <th>0</th>\n",
       "      <td>1800</td>\n",
       "      <td>3280000</td>\n",
       "      <td>410000</td>\n",
       "      <td>2500000</td>\n",
       "      <td>2650</td>\n",
       "      <td>1570000</td>\n",
       "      <td>37000</td>\n",
       "      <td>534000</td>\n",
       "      <td>413000</td>\n",
       "      <td>351000</td>\n",
       "      <td>...</td>\n",
       "      <td>12300000</td>\n",
       "      <td>6800000</td>\n",
       "      <td>55000</td>\n",
       "      <td>1920000</td>\n",
       "      <td>27800</td>\n",
       "      <td>718000</td>\n",
       "      <td>6550000</td>\n",
       "      <td>2590000</td>\n",
       "      <td>747000</td>\n",
       "      <td>1090000</td>\n",
       "    </tr>\n",
       "    <tr>\n",
       "      <th>1</th>\n",
       "      <td>1801</td>\n",
       "      <td>3280000</td>\n",
       "      <td>412000</td>\n",
       "      <td>2510000</td>\n",
       "      <td>2650</td>\n",
       "      <td>1570000</td>\n",
       "      <td>37000</td>\n",
       "      <td>534000</td>\n",
       "      <td>413000</td>\n",
       "      <td>350000</td>\n",
       "      <td>...</td>\n",
       "      <td>12500000</td>\n",
       "      <td>6930000</td>\n",
       "      <td>55000</td>\n",
       "      <td>1920000</td>\n",
       "      <td>27800</td>\n",
       "      <td>718000</td>\n",
       "      <td>6550000</td>\n",
       "      <td>2590000</td>\n",
       "      <td>747000</td>\n",
       "      <td>1090000</td>\n",
       "    </tr>\n",
       "    <tr>\n",
       "      <th>2</th>\n",
       "      <td>1802</td>\n",
       "      <td>3280000</td>\n",
       "      <td>413000</td>\n",
       "      <td>2520000</td>\n",
       "      <td>2650</td>\n",
       "      <td>1570000</td>\n",
       "      <td>37000</td>\n",
       "      <td>534000</td>\n",
       "      <td>413000</td>\n",
       "      <td>349000</td>\n",
       "      <td>...</td>\n",
       "      <td>12600000</td>\n",
       "      <td>7070000</td>\n",
       "      <td>55000</td>\n",
       "      <td>1920000</td>\n",
       "      <td>27800</td>\n",
       "      <td>718000</td>\n",
       "      <td>6550000</td>\n",
       "      <td>2590000</td>\n",
       "      <td>747000</td>\n",
       "      <td>1090000</td>\n",
       "    </tr>\n",
       "    <tr>\n",
       "      <th>3</th>\n",
       "      <td>1803</td>\n",
       "      <td>3280000</td>\n",
       "      <td>414000</td>\n",
       "      <td>2530000</td>\n",
       "      <td>2650</td>\n",
       "      <td>1570000</td>\n",
       "      <td>37000</td>\n",
       "      <td>534000</td>\n",
       "      <td>413000</td>\n",
       "      <td>348000</td>\n",
       "      <td>...</td>\n",
       "      <td>12800000</td>\n",
       "      <td>7200000</td>\n",
       "      <td>55000</td>\n",
       "      <td>1920000</td>\n",
       "      <td>27800</td>\n",
       "      <td>718000</td>\n",
       "      <td>6550000</td>\n",
       "      <td>2590000</td>\n",
       "      <td>747000</td>\n",
       "      <td>1090000</td>\n",
       "    </tr>\n",
       "    <tr>\n",
       "      <th>4</th>\n",
       "      <td>1804</td>\n",
       "      <td>3280000</td>\n",
       "      <td>416000</td>\n",
       "      <td>2540000</td>\n",
       "      <td>2650</td>\n",
       "      <td>1570000</td>\n",
       "      <td>37000</td>\n",
       "      <td>534000</td>\n",
       "      <td>413000</td>\n",
       "      <td>348000</td>\n",
       "      <td>...</td>\n",
       "      <td>13000000</td>\n",
       "      <td>7340000</td>\n",
       "      <td>55000</td>\n",
       "      <td>1920000</td>\n",
       "      <td>27800</td>\n",
       "      <td>718000</td>\n",
       "      <td>6550000</td>\n",
       "      <td>2590000</td>\n",
       "      <td>747000</td>\n",
       "      <td>1090000</td>\n",
       "    </tr>\n",
       "  </tbody>\n",
       "</table>\n",
       "<p>5 rows × 196 columns</p>\n",
       "</div>"
      ],
      "text/plain": [
       "   Year  Afghanistan  Albania  Algeria  Andorra   Angola  Antigua and Barbuda  \\\n",
       "0  1800      3280000   410000  2500000     2650  1570000                37000   \n",
       "1  1801      3280000   412000  2510000     2650  1570000                37000   \n",
       "2  1802      3280000   413000  2520000     2650  1570000                37000   \n",
       "3  1803      3280000   414000  2530000     2650  1570000                37000   \n",
       "4  1804      3280000   416000  2540000     2650  1570000                37000   \n",
       "\n",
       "   Argentina  Armenia  Australia    ...     United Kingdom  United States  \\\n",
       "0     534000   413000     351000    ...           12300000        6800000   \n",
       "1     534000   413000     350000    ...           12500000        6930000   \n",
       "2     534000   413000     349000    ...           12600000        7070000   \n",
       "3     534000   413000     348000    ...           12800000        7200000   \n",
       "4     534000   413000     348000    ...           13000000        7340000   \n",
       "\n",
       "   Uruguay  Uzbekistan  Vanuatu  Venezuela  Vietnam    Yemen  Zambia  Zimbabwe  \n",
       "0    55000     1920000    27800     718000  6550000  2590000  747000   1090000  \n",
       "1    55000     1920000    27800     718000  6550000  2590000  747000   1090000  \n",
       "2    55000     1920000    27800     718000  6550000  2590000  747000   1090000  \n",
       "3    55000     1920000    27800     718000  6550000  2590000  747000   1090000  \n",
       "4    55000     1920000    27800     718000  6550000  2590000  747000   1090000  \n",
       "\n",
       "[5 rows x 196 columns]"
      ]
     },
     "execution_count": 2,
     "metadata": {},
     "output_type": "execute_result"
    }
   ],
   "source": [
    "population = pd.DataFrame(pd.read_csv(\"Population.csv\"))\n",
    "population.head()"
   ]
  },
  {
   "cell_type": "code",
   "execution_count": 3,
   "metadata": {},
   "outputs": [],
   "source": [
    "#1. In Python plot the population growth of Australia, China and United States over time."
   ]
  },
  {
   "cell_type": "code",
   "execution_count": 4,
   "metadata": {},
   "outputs": [
    {
     "data": {
      "text/plain": [
       "Text(0,0.5,'Population')"
      ]
     },
     "execution_count": 4,
     "metadata": {},
     "output_type": "execute_result"
    },
    {
     "data": {
      "image/png": "[encoded data removed]",
      "text/plain": [
       "<matplotlib.figure.Figure at 0x18591d7fcc0>"
      ]
     },
     "metadata": {},
     "output_type": "display_data"
    }
   ],
   "source": [
    "plt.scatter(population['Year'],population['China'],s=20, c=\"#ff1212\", marker='o'),\n",
    "plt.scatter(population['Year'],population['Australia'],s=20, c=\"green\", marker='o'),\n",
    "plt.scatter(population['Year'],population['United States'],s=20, c=\"yellow\", marker='o'),\n",
    "plt.legend()\n",
    "plt.title(\"population tendency chart in China, Australia,USA \",fontsize=20)\n",
    "plt.xlabel(\"Year\",fontsize=14)\n",
    "plt.ylabel(\"Population\",fontsize=14)"
   ]
  },
  {
   "cell_type": "code",
   "execution_count": 5,
   "metadata": {},
   "outputs": [],
   "source": [
    "#2. Fit a linear regression using Python to the Chinese population data and plot the linear fit.\n",
    "# 2.1 Does the linear fit look good?\n",
    "# 2.2 Use the linear fit to predict the resident population in China in 2020 and 2100.\n",
    "# 2.3 Instead of fitting the linear regression to all of the data, try fitting it to just the most recent data points (say from 1960 onwards). How is the fit? \n",
    "#Which model would give better predictions of future population in China do you think?"
   ]
  },
  {
   "cell_type": "code",
   "execution_count": 6,
   "metadata": {},
   "outputs": [
    {
     "name": "stdout",
     "output_type": "stream",
     "text": [
      "slope: 4411204.542598    intercept: -7814934677.299574\n"
     ]
    }
   ],
   "source": [
    "#2.1 Fit a linear regression using Python to the Chinese population data and plot the linear fit.\n",
    "from scipy.stats import linregress\n",
    "x = population['Year']\n",
    "y = population['China']\n",
    "slope, intercept, r_value,p_value, std_err = linregress(x,y)\n",
    "print(\"slope: %f    intercept: %f\" % (slope, intercept))"
   ]
  },
  {
   "cell_type": "code",
   "execution_count": 7,
   "metadata": {},
   "outputs": [
    {
     "data": {
      "text/plain": [
       "[<matplotlib.lines.Line2D at 0x18593e61a20>]"
      ]
     },
     "execution_count": 7,
     "metadata": {},
     "output_type": "execute_result"
    },
    {
     "data": {
      "image/png": "[encoded data removed]",
      "text/plain": [
       "<matplotlib.figure.Figure at 0x185939fc0b8>"
      ]
     },
     "metadata": {},
     "output_type": "display_data"
    }
   ],
   "source": [
    "plt.plot(x, y, 'o', label='original data'),\n",
    "plt.title(\"population tendency in China\",fontsize=20)\n",
    "plt.xlabel(\"Year\",fontsize=14)\n",
    "plt.ylabel(\"Population(Billion)\",fontsize=14)\n",
    "#plt.plot(x, intercept + slope*x, 'r', label='fitted line')\n",
    "line = [slope*xi + intercept for xi in x]\n",
    "plt.plot(x,line,'r-', linewidth=3)"
   ]
  },
  {
   "cell_type": "code",
   "execution_count": 8,
   "metadata": {},
   "outputs": [],
   "source": [
    "#2.2 Use the linear fit to predict the resident population in China in 2020 and 2100."
   ]
  },
  {
   "cell_type": "markdown",
   "metadata": {},
   "source": [
    "from the linear fit above, I get the slope is: 4411204.542598  intercept: -7814934677.299574"
   ]
  },
  {
   "cell_type": "code",
   "execution_count": 9,
   "metadata": {},
   "outputs": [
    {
     "data": {
      "text/plain": [
       "1095698498.7489567"
      ]
     },
     "execution_count": 9,
     "metadata": {},
     "output_type": "execute_result"
    }
   ],
   "source": [
    "p2020 = slope*2020 +intercept \n",
    "p2020"
   ]
  },
  {
   "cell_type": "code",
   "execution_count": 10,
   "metadata": {},
   "outputs": [
    {
     "data": {
      "text/plain": [
       "1448594862.1568203"
      ]
     },
     "execution_count": 10,
     "metadata": {},
     "output_type": "execute_result"
    }
   ],
   "source": [
    "p2100 = slope*2100 +intercept \n",
    "p2100"
   ]
  },
  {
   "cell_type": "markdown",
   "metadata": {},
   "source": [
    "prediction: the resident population in China in 2020 will probablly at 1095698498.7489567\n",
    "            the resident population in China in 2100 will probablly at 1448594862.1568203"
   ]
  },
  {
   "cell_type": "code",
   "execution_count": 11,
   "metadata": {},
   "outputs": [],
   "source": [
    "#2.3  \n",
    "#Which model would give better predictions of future population in China do you think?   这题还没做\n",
    "filt = (population.Year >= 1960)\n",
    "population_filt = population[filt]"
   ]
  },
  {
   "cell_type": "code",
   "execution_count": 12,
   "metadata": {},
   "outputs": [
    {
     "data": {
      "text/html": [
       "<div>\n",
       "<style scoped>\n",
       "    .dataframe tbody tr th:only-of-type {\n",
       "        vertical-align: middle;\n",
       "    }\n",
       "\n",
       "    .dataframe tbody tr th {\n",
       "        vertical-align: top;\n",
       "    }\n",
       "\n",
       "    .dataframe thead th {\n",
       "        text-align: right;\n",
       "    }\n",
       "</style>\n",
       "<table border=\"1\" class=\"dataframe\">\n",
       "  <thead>\n",
       "    <tr style=\"text-align: right;\">\n",
       "      <th></th>\n",
       "      <th>China</th>\n",
       "    </tr>\n",
       "  </thead>\n",
       "  <tbody>\n",
       "    <tr>\n",
       "      <th>160</th>\n",
       "      <td>658000000</td>\n",
       "    </tr>\n",
       "    <tr>\n",
       "      <th>161</th>\n",
       "      <td>668000000</td>\n",
       "    </tr>\n",
       "    <tr>\n",
       "      <th>162</th>\n",
       "      <td>680000000</td>\n",
       "    </tr>\n",
       "    <tr>\n",
       "      <th>163</th>\n",
       "      <td>692000000</td>\n",
       "    </tr>\n",
       "    <tr>\n",
       "      <th>164</th>\n",
       "      <td>706000000</td>\n",
       "    </tr>\n",
       "  </tbody>\n",
       "</table>\n",
       "</div>"
      ],
      "text/plain": [
       "         China\n",
       "160  658000000\n",
       "161  668000000\n",
       "162  680000000\n",
       "163  692000000\n",
       "164  706000000"
      ]
     },
     "execution_count": 12,
     "metadata": {},
     "output_type": "execute_result"
    }
   ],
   "source": [
    "population_filt.loc[160:,['China']].head()"
   ]
  },
  {
   "cell_type": "code",
   "execution_count": 13,
   "metadata": {},
   "outputs": [
    {
     "data": {
      "text/plain": [
       "[<matplotlib.lines.Line2D at 0x18593edee80>]"
      ]
     },
     "execution_count": 13,
     "metadata": {},
     "output_type": "execute_result"
    },
    {
     "data": {
      "image/png": "[encoded data removed]",
      "text/plain": [
       "<matplotlib.figure.Figure at 0x18593e90ac8>"
      ]
     },
     "metadata": {},
     "output_type": "display_data"
    }
   ],
   "source": [
    "x1 = population_filt['Year']\n",
    "y1 = population_filt['China']\n",
    "slope, intercept, r_value, p_value, std_err = linregress(x1,y1)\n",
    "plt.plot(x1, y1, 'o', label='original data'),\n",
    "plt.title(\"population tendency chart in China from 1960 \",fontsize=20)\n",
    "plt.xlabel(\"Year\",fontsize=14)\n",
    "plt.ylabel(\"Population(Billion)\",fontsize=14)\n",
    "#plt.plot(x, intercept + slope*x, 'r', label='fitted line')\n",
    "line = [slope*xi + intercept for xi in x1]\n",
    "plt.plot(x1,line,'r-', linewidth=3)"
   ]
  },
  {
   "cell_type": "markdown",
   "metadata": {},
   "source": [
    "# A2"
   ]
  },
  {
   "cell_type": "code",
   "execution_count": 14,
   "metadata": {},
   "outputs": [],
   "source": [
    "#1. Use Python to plot the CO2 emissions (tonnes per person) for Australia, China and United States over time.\n",
    "#How do you compare the trend in CO2 emissions for these three countries over the time period? \n",
    "#Are these countries having similar growth trend? \n",
    "#What are the maximum values for CO2 emissions (tonnes per person) for Australia, China and United States respectively?"
   ]
  },
  {
   "cell_type": "code",
   "execution_count": 15,
   "metadata": {},
   "outputs": [],
   "source": [
    "#How do you compare the trend in CO2 emissions for these three countries over the time period? Are these countries having similar growth trend?"
   ]
  },
  {
   "cell_type": "code",
   "execution_count": 16,
   "metadata": {
    "scrolled": true
   },
   "outputs": [],
   "source": [
    "co2_emission = pd.DataFrame(pd.read_csv('co2_emissions_tonnes_per_person.csv'))\n",
    "co2_emission.rename(columns ={'country':\"\"},inplace=True)\n",
    "co2_emission.set_index([\"\"],inplace=True)"
   ]
  },
  {
   "cell_type": "code",
   "execution_count": 17,
   "metadata": {},
   "outputs": [],
   "source": [
    "co2 = co2_emission.transpose()\n",
    "co2 = co2.reset_index()"
   ]
  },
  {
   "cell_type": "code",
   "execution_count": 18,
   "metadata": {},
   "outputs": [
    {
     "name": "stdout",
     "output_type": "stream",
     "text": [
      "<class 'pandas.core.frame.DataFrame'>\n",
      "RangeIndex: 215 entries, 0 to 214\n",
      "Columns: 193 entries, Year to Zimbabwe\n",
      "dtypes: float64(192), object(1)\n",
      "memory usage: 324.3+ KB\n"
     ]
    }
   ],
   "source": [
    "co2.rename(columns ={'index':\"Year\"},inplace=True)\n",
    "co2.info()\n",
    "co2['Year'] = co2['Year'].astype('int')"
   ]
  },
  {
   "cell_type": "code",
   "execution_count": 19,
   "metadata": {},
   "outputs": [
    {
     "data": {
      "text/plain": [
       "Text(0,0.5,'co2_emissions_tonnes_per_person')"
      ]
     },
     "execution_count": 19,
     "metadata": {},
     "output_type": "execute_result"
    },
    {
     "data": {
      "image/png": "[encoded data removed]",
      "text/plain": [
       "<matplotlib.figure.Figure at 0x18593f3cda0>"
      ]
     },
     "metadata": {},
     "output_type": "display_data"
    }
   ],
   "source": [
    "plt.scatter(co2[\"Year\"],co2['Australia'],s=20, c=\"#ff1212\", marker='o'),\n",
    "plt.scatter(co2['Year'],co2['China'],s=20, c=\"green\", marker='o'),\n",
    "plt.scatter(co2['Year'],co2['United States'],s=20, c=\"yellow\", marker='o'),\n",
    "plt.legend()\n",
    "plt.title(\"the trend in CO2 emissions in China, Australia,USA \",fontsize=20)\n",
    "plt.xlabel(\"Year\",fontsize=14)\n",
    "plt.ylabel(\"co2_emissions_tonnes_per_person\",fontsize=14)"
   ]
  },
  {
   "cell_type": "code",
   "execution_count": 20,
   "metadata": {},
   "outputs": [],
   "source": [
    "#What are the maximum values for CO2 emissions (tonnes per person) for Australia, China and United States respectively?"
   ]
  },
  {
   "cell_type": "code",
   "execution_count": 21,
   "metadata": {},
   "outputs": [
    {
     "data": {
      "text/plain": [
       "18.2"
      ]
     },
     "execution_count": 21,
     "metadata": {},
     "output_type": "execute_result"
    }
   ],
   "source": [
    "#Australia\n",
    "co2.Australia.max()"
   ]
  },
  {
   "cell_type": "code",
   "execution_count": 22,
   "metadata": {},
   "outputs": [
    {
     "data": {
      "text/plain": [
       "7.42"
      ]
     },
     "execution_count": 22,
     "metadata": {},
     "output_type": "execute_result"
    }
   ],
   "source": [
    "#China\n",
    "co2.China.max()"
   ]
  },
  {
   "cell_type": "code",
   "execution_count": 23,
   "metadata": {},
   "outputs": [
    {
     "data": {
      "text/plain": [
       "22.2"
      ]
     },
     "execution_count": 23,
     "metadata": {},
     "output_type": "execute_result"
    }
   ],
   "source": [
    "#United States\n",
    "co2['United States'].max()"
   ]
  },
  {
   "cell_type": "code",
   "execution_count": 24,
   "metadata": {},
   "outputs": [
    {
     "name": "stderr",
     "output_type": "stream",
     "text": [
      "C:\\Anaconda\\lib\\site-packages\\ipykernel_launcher.py:6: FutureWarning: convert_objects is deprecated.  To re-infer data dtypes for object columns, use DataFrame.infer_objects()\n",
      "For all other conversions use the data-type specific converters pd.to_datetime, pd.to_timedelta and pd.to_numeric.\n",
      "  \n"
     ]
    }
   ],
   "source": [
    "#Fit a linear regression to the CO2 emissions in United States and plot it.\n",
    "from scipy.stats import linregress\n",
    "co2.fillna(0)\n",
    "x = co2['Year']\n",
    "y = co2['United States']\n",
    "co2= co2.convert_objects(convert_numeric=True)"
   ]
  },
  {
   "cell_type": "code",
   "execution_count": 25,
   "metadata": {},
   "outputs": [
    {
     "data": {
      "text/plain": [
       "Text(0,0.5,'co2_emissions_tonnes_per_person')"
      ]
     },
     "execution_count": 25,
     "metadata": {},
     "output_type": "execute_result"
    },
    {
     "data": {
      "image/png": "[encoded data removed]",
      "text/plain": [
       "<matplotlib.figure.Figure at 0x18593f24cc0>"
      ]
     },
     "metadata": {},
     "output_type": "display_data"
    }
   ],
   "source": [
    "slope, intercept, r_value, p_value, std_err = linregress(x,y)\n",
    "plt.plot(x, y, 'o', label='original data')\n",
    "plt.plot(x, intercept + slope*x, 'r', label='fitted line',linewidth=3),\n",
    "plt.title(\"CO2 emissions in USA \",fontsize=20)\n",
    "plt.xlabel(\"Year\",fontsize=14)\n",
    "plt.ylabel(\"co2_emissions_tonnes_per_person\",fontsize=14)"
   ]
  },
  {
   "cell_type": "markdown",
   "metadata": {},
   "source": [
    "# A3"
   ]
  },
  {
   "cell_type": "code",
   "execution_count": 26,
   "metadata": {},
   "outputs": [],
   "source": [
    "#Use Python to plot the Income Australia, China and United States over time.\n",
    "#What was the minimum income in China recorded in the dataset and when did that occur? \n",
    "#What was the income in Australia in the same year?"
   ]
  },
  {
   "cell_type": "code",
   "execution_count": 27,
   "metadata": {},
   "outputs": [],
   "source": [
    "#Use Python to plot the Income Australia, China and United States over time"
   ]
  },
  {
   "cell_type": "code",
   "execution_count": 28,
   "metadata": {},
   "outputs": [
    {
     "data": {
      "text/html": [
       "<div>\n",
       "<style scoped>\n",
       "    .dataframe tbody tr th:only-of-type {\n",
       "        vertical-align: middle;\n",
       "    }\n",
       "\n",
       "    .dataframe tbody tr th {\n",
       "        vertical-align: top;\n",
       "    }\n",
       "\n",
       "    .dataframe thead th {\n",
       "        text-align: right;\n",
       "    }\n",
       "</style>\n",
       "<table border=\"1\" class=\"dataframe\">\n",
       "  <thead>\n",
       "    <tr style=\"text-align: right;\">\n",
       "      <th></th>\n",
       "      <th>Year</th>\n",
       "      <th>Afghanistan</th>\n",
       "      <th>Albania</th>\n",
       "      <th>Algeria</th>\n",
       "      <th>Andorra</th>\n",
       "      <th>Angola</th>\n",
       "      <th>Antigua and Barbuda</th>\n",
       "      <th>Argentina</th>\n",
       "      <th>Armenia</th>\n",
       "      <th>Australia</th>\n",
       "      <th>...</th>\n",
       "      <th>United Kingdom</th>\n",
       "      <th>United States</th>\n",
       "      <th>Uruguay</th>\n",
       "      <th>Uzbekistan</th>\n",
       "      <th>Vanuatu</th>\n",
       "      <th>Venezuela</th>\n",
       "      <th>Vietnam</th>\n",
       "      <th>Yemen</th>\n",
       "      <th>Zambia</th>\n",
       "      <th>Zimbabwe</th>\n",
       "    </tr>\n",
       "  </thead>\n",
       "  <tbody>\n",
       "    <tr>\n",
       "      <th>0</th>\n",
       "      <td>1800</td>\n",
       "      <td>603</td>\n",
       "      <td>667</td>\n",
       "      <td>715</td>\n",
       "      <td>1200</td>\n",
       "      <td>618</td>\n",
       "      <td>757</td>\n",
       "      <td>1510</td>\n",
       "      <td>514</td>\n",
       "      <td>814</td>\n",
       "      <td>...</td>\n",
       "      <td>3430</td>\n",
       "      <td>2130</td>\n",
       "      <td>1760</td>\n",
       "      <td>502</td>\n",
       "      <td>585</td>\n",
       "      <td>682</td>\n",
       "      <td>861</td>\n",
       "      <td>877</td>\n",
       "      <td>663</td>\n",
       "      <td>869</td>\n",
       "    </tr>\n",
       "    <tr>\n",
       "      <th>1</th>\n",
       "      <td>1801</td>\n",
       "      <td>603</td>\n",
       "      <td>667</td>\n",
       "      <td>716</td>\n",
       "      <td>1200</td>\n",
       "      <td>620</td>\n",
       "      <td>757</td>\n",
       "      <td>1510</td>\n",
       "      <td>514</td>\n",
       "      <td>816</td>\n",
       "      <td>...</td>\n",
       "      <td>3440</td>\n",
       "      <td>2170</td>\n",
       "      <td>1760</td>\n",
       "      <td>502</td>\n",
       "      <td>586</td>\n",
       "      <td>682</td>\n",
       "      <td>861</td>\n",
       "      <td>879</td>\n",
       "      <td>665</td>\n",
       "      <td>870</td>\n",
       "    </tr>\n",
       "    <tr>\n",
       "      <th>2</th>\n",
       "      <td>1802</td>\n",
       "      <td>603</td>\n",
       "      <td>667</td>\n",
       "      <td>717</td>\n",
       "      <td>1200</td>\n",
       "      <td>623</td>\n",
       "      <td>757</td>\n",
       "      <td>1510</td>\n",
       "      <td>514</td>\n",
       "      <td>818</td>\n",
       "      <td>...</td>\n",
       "      <td>3450</td>\n",
       "      <td>2200</td>\n",
       "      <td>1760</td>\n",
       "      <td>502</td>\n",
       "      <td>586</td>\n",
       "      <td>682</td>\n",
       "      <td>861</td>\n",
       "      <td>882</td>\n",
       "      <td>667</td>\n",
       "      <td>871</td>\n",
       "    </tr>\n",
       "    <tr>\n",
       "      <th>3</th>\n",
       "      <td>1803</td>\n",
       "      <td>603</td>\n",
       "      <td>667</td>\n",
       "      <td>718</td>\n",
       "      <td>1200</td>\n",
       "      <td>626</td>\n",
       "      <td>757</td>\n",
       "      <td>1510</td>\n",
       "      <td>514</td>\n",
       "      <td>820</td>\n",
       "      <td>...</td>\n",
       "      <td>3340</td>\n",
       "      <td>2170</td>\n",
       "      <td>1760</td>\n",
       "      <td>502</td>\n",
       "      <td>586</td>\n",
       "      <td>682</td>\n",
       "      <td>861</td>\n",
       "      <td>884</td>\n",
       "      <td>668</td>\n",
       "      <td>872</td>\n",
       "    </tr>\n",
       "    <tr>\n",
       "      <th>4</th>\n",
       "      <td>1804</td>\n",
       "      <td>603</td>\n",
       "      <td>667</td>\n",
       "      <td>719</td>\n",
       "      <td>1210</td>\n",
       "      <td>628</td>\n",
       "      <td>757</td>\n",
       "      <td>1510</td>\n",
       "      <td>514</td>\n",
       "      <td>822</td>\n",
       "      <td>...</td>\n",
       "      <td>3290</td>\n",
       "      <td>2170</td>\n",
       "      <td>1760</td>\n",
       "      <td>503</td>\n",
       "      <td>586</td>\n",
       "      <td>682</td>\n",
       "      <td>861</td>\n",
       "      <td>887</td>\n",
       "      <td>670</td>\n",
       "      <td>873</td>\n",
       "    </tr>\n",
       "  </tbody>\n",
       "</table>\n",
       "<p>5 rows × 194 columns</p>\n",
       "</div>"
      ],
      "text/plain": [
       "   Year  Afghanistan  Albania  Algeria  Andorra  Angola  Antigua and Barbuda  \\\n",
       "0  1800          603      667      715     1200     618                  757   \n",
       "1  1801          603      667      716     1200     620                  757   \n",
       "2  1802          603      667      717     1200     623                  757   \n",
       "3  1803          603      667      718     1200     626                  757   \n",
       "4  1804          603      667      719     1210     628                  757   \n",
       "\n",
       "   Argentina  Armenia  Australia    ...     United Kingdom  United States  \\\n",
       "0       1510      514        814    ...               3430           2130   \n",
       "1       1510      514        816    ...               3440           2170   \n",
       "2       1510      514        818    ...               3450           2200   \n",
       "3       1510      514        820    ...               3340           2170   \n",
       "4       1510      514        822    ...               3290           2170   \n",
       "\n",
       "   Uruguay  Uzbekistan  Vanuatu  Venezuela  Vietnam  Yemen  Zambia  Zimbabwe  \n",
       "0     1760         502      585        682      861    877     663       869  \n",
       "1     1760         502      586        682      861    879     665       870  \n",
       "2     1760         502      586        682      861    882     667       871  \n",
       "3     1760         502      586        682      861    884     668       872  \n",
       "4     1760         503      586        682      861    887     670       873  \n",
       "\n",
       "[5 rows x 194 columns]"
      ]
     },
     "execution_count": 28,
     "metadata": {},
     "output_type": "execute_result"
    }
   ],
   "source": [
    "income = pd.DataFrame(pd.read_csv('Income.csv'))\n",
    "income.head()"
   ]
  },
  {
   "cell_type": "code",
   "execution_count": 29,
   "metadata": {
    "scrolled": true
   },
   "outputs": [
    {
     "data": {
      "text/plain": [
       "Text(0,0.5,'Income')"
      ]
     },
     "execution_count": 29,
     "metadata": {},
     "output_type": "execute_result"
    },
    {
     "data": {
      "image/png": "[encoded data removed]",
      "text/plain": [
       "<matplotlib.figure.Figure at 0x1859407a780>"
      ]
     },
     "metadata": {},
     "output_type": "display_data"
    }
   ],
   "source": [
    "plt.plot(income['Year'],income['China'], c=\"#ff1212\"),\n",
    "plt.plot(income['Year'],income['Australia'], c=\"green\"),\n",
    "plt.plot(income['Year'],income['United States'], c=\"yellow\"),\n",
    "plt.legend()\n",
    "plt.title(\"Income tendency chart in China, Australia,USA \",fontsize=20)\n",
    "plt.xlabel(\"Year\",fontsize=14)\n",
    "plt.ylabel(\"Income\",fontsize=14)"
   ]
  },
  {
   "cell_type": "code",
   "execution_count": 30,
   "metadata": {},
   "outputs": [],
   "source": [
    "#What was the minimum income in China recorded in the dataset and when did that occur? "
   ]
  },
  {
   "cell_type": "code",
   "execution_count": 31,
   "metadata": {},
   "outputs": [
    {
     "data": {
      "text/plain": [
       "530"
      ]
     },
     "execution_count": 31,
     "metadata": {},
     "output_type": "execute_result"
    }
   ],
   "source": [
    "income['China'].min()"
   ]
  },
  {
   "cell_type": "code",
   "execution_count": 32,
   "metadata": {},
   "outputs": [
    {
     "data": {
      "text/html": [
       "<div>\n",
       "<style scoped>\n",
       "    .dataframe tbody tr th:only-of-type {\n",
       "        vertical-align: middle;\n",
       "    }\n",
       "\n",
       "    .dataframe tbody tr th {\n",
       "        vertical-align: top;\n",
       "    }\n",
       "\n",
       "    .dataframe thead th {\n",
       "        text-align: right;\n",
       "    }\n",
       "</style>\n",
       "<table border=\"1\" class=\"dataframe\">\n",
       "  <thead>\n",
       "    <tr style=\"text-align: right;\">\n",
       "      <th></th>\n",
       "      <th>Year</th>\n",
       "      <th>Afghanistan</th>\n",
       "      <th>Albania</th>\n",
       "      <th>Algeria</th>\n",
       "      <th>Andorra</th>\n",
       "      <th>Angola</th>\n",
       "      <th>Antigua and Barbuda</th>\n",
       "      <th>Argentina</th>\n",
       "      <th>Armenia</th>\n",
       "      <th>Australia</th>\n",
       "      <th>...</th>\n",
       "      <th>United Kingdom</th>\n",
       "      <th>United States</th>\n",
       "      <th>Uruguay</th>\n",
       "      <th>Uzbekistan</th>\n",
       "      <th>Vanuatu</th>\n",
       "      <th>Venezuela</th>\n",
       "      <th>Vietnam</th>\n",
       "      <th>Yemen</th>\n",
       "      <th>Zambia</th>\n",
       "      <th>Zimbabwe</th>\n",
       "    </tr>\n",
       "  </thead>\n",
       "  <tbody>\n",
       "    <tr>\n",
       "      <th>149</th>\n",
       "      <td>1949</td>\n",
       "      <td>1030</td>\n",
       "      <td>1910</td>\n",
       "      <td>3960</td>\n",
       "      <td>6870</td>\n",
       "      <td>3080</td>\n",
       "      <td>3390</td>\n",
       "      <td>8450</td>\n",
       "      <td>1730</td>\n",
       "      <td>11800</td>\n",
       "      <td>...</td>\n",
       "      <td>10900</td>\n",
       "      <td>14300</td>\n",
       "      <td>7930</td>\n",
       "      <td>1600</td>\n",
       "      <td>1280</td>\n",
       "      <td>11600</td>\n",
       "      <td>965</td>\n",
       "      <td>1330</td>\n",
       "      <td>2520</td>\n",
       "      <td>1480</td>\n",
       "    </tr>\n",
       "  </tbody>\n",
       "</table>\n",
       "<p>1 rows × 194 columns</p>\n",
       "</div>"
      ],
      "text/plain": [
       "     Year  Afghanistan  Albania  Algeria  Andorra  Angola  \\\n",
       "149  1949         1030     1910     3960     6870    3080   \n",
       "\n",
       "     Antigua and Barbuda  Argentina  Armenia  Australia    ...     \\\n",
       "149                 3390       8450     1730      11800    ...      \n",
       "\n",
       "     United Kingdom  United States  Uruguay  Uzbekistan  Vanuatu  Venezuela  \\\n",
       "149           10900          14300     7930        1600     1280      11600   \n",
       "\n",
       "     Vietnam  Yemen  Zambia  Zimbabwe  \n",
       "149      965   1330    2520      1480  \n",
       "\n",
       "[1 rows x 194 columns]"
      ]
     },
     "execution_count": 32,
     "metadata": {},
     "output_type": "execute_result"
    }
   ],
   "source": [
    "#method 1\n",
    "income[income['China'].isin(['530'])]"
   ]
  },
  {
   "cell_type": "code",
   "execution_count": 33,
   "metadata": {},
   "outputs": [
    {
     "data": {
      "text/plain": [
       "149    1949\n",
       "Name: Year, dtype: int64"
      ]
     },
     "execution_count": 33,
     "metadata": {},
     "output_type": "execute_result"
    }
   ],
   "source": [
    "#method 2\n",
    "income[income['China']== 530].Year"
   ]
  },
  {
   "cell_type": "code",
   "execution_count": 34,
   "metadata": {},
   "outputs": [],
   "source": [
    "#What was the income in Australia in the same year?"
   ]
  },
  {
   "cell_type": "code",
   "execution_count": 35,
   "metadata": {},
   "outputs": [
    {
     "data": {
      "text/plain": [
       "Australia    11800\n",
       "Name: 149, dtype: int64"
      ]
     },
     "execution_count": 35,
     "metadata": {},
     "output_type": "execute_result"
    }
   ],
   "source": [
    "#method 1\n",
    "income.loc[149,['Australia']]"
   ]
  },
  {
   "cell_type": "code",
   "execution_count": 36,
   "metadata": {},
   "outputs": [
    {
     "data": {
      "text/plain": [
       "149    11800\n",
       "Name: Australia, dtype: int64"
      ]
     },
     "execution_count": 36,
     "metadata": {},
     "output_type": "execute_result"
    }
   ],
   "source": [
    "#method 2\n",
    "filter = (income.Year == 1949)\n",
    "income[filter].Australia"
   ]
  },
  {
   "cell_type": "markdown",
   "metadata": {},
   "source": [
    "# A4"
   ]
  },
  {
   "cell_type": "code",
   "execution_count": 37,
   "metadata": {},
   "outputs": [],
   "source": [
    "#1. Use Python to combine the data from the different files into a single table. The table should contain population values, income and CO2 emissions for the different years and different countries. (HINT: Pandas contains a \"transpose()\" method and Excel can also be used to transpose data.)\n",
    "  #What is the first year and last year for the combined data?"
   ]
  },
  {
   "cell_type": "code",
   "execution_count": 38,
   "metadata": {},
   "outputs": [
    {
     "data": {
      "text/html": [
       "<div>\n",
       "<style scoped>\n",
       "    .dataframe tbody tr th:only-of-type {\n",
       "        vertical-align: middle;\n",
       "    }\n",
       "\n",
       "    .dataframe tbody tr th {\n",
       "        vertical-align: top;\n",
       "    }\n",
       "\n",
       "    .dataframe thead th {\n",
       "        text-align: right;\n",
       "    }\n",
       "</style>\n",
       "<table border=\"1\" class=\"dataframe\">\n",
       "  <thead>\n",
       "    <tr style=\"text-align: right;\">\n",
       "      <th></th>\n",
       "      <th>Year</th>\n",
       "      <th>Afghanistan</th>\n",
       "      <th>Albania</th>\n",
       "      <th>Algeria</th>\n",
       "      <th>Andorra</th>\n",
       "      <th>Angola</th>\n",
       "      <th>Antigua and Barbuda</th>\n",
       "      <th>Argentina</th>\n",
       "      <th>Armenia</th>\n",
       "      <th>Australia</th>\n",
       "      <th>...</th>\n",
       "      <th>United Kingdom</th>\n",
       "      <th>United States</th>\n",
       "      <th>Uruguay</th>\n",
       "      <th>Uzbekistan</th>\n",
       "      <th>Vanuatu</th>\n",
       "      <th>Venezuela</th>\n",
       "      <th>Vietnam</th>\n",
       "      <th>Yemen</th>\n",
       "      <th>Zambia</th>\n",
       "      <th>Zimbabwe</th>\n",
       "    </tr>\n",
       "  </thead>\n",
       "  <tbody>\n",
       "    <tr>\n",
       "      <th>0</th>\n",
       "      <td>1800</td>\n",
       "      <td>603</td>\n",
       "      <td>667</td>\n",
       "      <td>715</td>\n",
       "      <td>1200</td>\n",
       "      <td>618</td>\n",
       "      <td>757</td>\n",
       "      <td>1510</td>\n",
       "      <td>514</td>\n",
       "      <td>814</td>\n",
       "      <td>...</td>\n",
       "      <td>3430</td>\n",
       "      <td>2130</td>\n",
       "      <td>1760</td>\n",
       "      <td>502</td>\n",
       "      <td>585</td>\n",
       "      <td>682</td>\n",
       "      <td>861</td>\n",
       "      <td>877</td>\n",
       "      <td>663</td>\n",
       "      <td>869</td>\n",
       "    </tr>\n",
       "    <tr>\n",
       "      <th>1</th>\n",
       "      <td>1801</td>\n",
       "      <td>603</td>\n",
       "      <td>667</td>\n",
       "      <td>716</td>\n",
       "      <td>1200</td>\n",
       "      <td>620</td>\n",
       "      <td>757</td>\n",
       "      <td>1510</td>\n",
       "      <td>514</td>\n",
       "      <td>816</td>\n",
       "      <td>...</td>\n",
       "      <td>3440</td>\n",
       "      <td>2170</td>\n",
       "      <td>1760</td>\n",
       "      <td>502</td>\n",
       "      <td>586</td>\n",
       "      <td>682</td>\n",
       "      <td>861</td>\n",
       "      <td>879</td>\n",
       "      <td>665</td>\n",
       "      <td>870</td>\n",
       "    </tr>\n",
       "    <tr>\n",
       "      <th>2</th>\n",
       "      <td>1802</td>\n",
       "      <td>603</td>\n",
       "      <td>667</td>\n",
       "      <td>717</td>\n",
       "      <td>1200</td>\n",
       "      <td>623</td>\n",
       "      <td>757</td>\n",
       "      <td>1510</td>\n",
       "      <td>514</td>\n",
       "      <td>818</td>\n",
       "      <td>...</td>\n",
       "      <td>3450</td>\n",
       "      <td>2200</td>\n",
       "      <td>1760</td>\n",
       "      <td>502</td>\n",
       "      <td>586</td>\n",
       "      <td>682</td>\n",
       "      <td>861</td>\n",
       "      <td>882</td>\n",
       "      <td>667</td>\n",
       "      <td>871</td>\n",
       "    </tr>\n",
       "    <tr>\n",
       "      <th>3</th>\n",
       "      <td>1803</td>\n",
       "      <td>603</td>\n",
       "      <td>667</td>\n",
       "      <td>718</td>\n",
       "      <td>1200</td>\n",
       "      <td>626</td>\n",
       "      <td>757</td>\n",
       "      <td>1510</td>\n",
       "      <td>514</td>\n",
       "      <td>820</td>\n",
       "      <td>...</td>\n",
       "      <td>3340</td>\n",
       "      <td>2170</td>\n",
       "      <td>1760</td>\n",
       "      <td>502</td>\n",
       "      <td>586</td>\n",
       "      <td>682</td>\n",
       "      <td>861</td>\n",
       "      <td>884</td>\n",
       "      <td>668</td>\n",
       "      <td>872</td>\n",
       "    </tr>\n",
       "    <tr>\n",
       "      <th>4</th>\n",
       "      <td>1804</td>\n",
       "      <td>603</td>\n",
       "      <td>667</td>\n",
       "      <td>719</td>\n",
       "      <td>1210</td>\n",
       "      <td>628</td>\n",
       "      <td>757</td>\n",
       "      <td>1510</td>\n",
       "      <td>514</td>\n",
       "      <td>822</td>\n",
       "      <td>...</td>\n",
       "      <td>3290</td>\n",
       "      <td>2170</td>\n",
       "      <td>1760</td>\n",
       "      <td>503</td>\n",
       "      <td>586</td>\n",
       "      <td>682</td>\n",
       "      <td>861</td>\n",
       "      <td>887</td>\n",
       "      <td>670</td>\n",
       "      <td>873</td>\n",
       "    </tr>\n",
       "  </tbody>\n",
       "</table>\n",
       "<p>5 rows × 194 columns</p>\n",
       "</div>"
      ],
      "text/plain": [
       "   Year  Afghanistan  Albania  Algeria  Andorra  Angola  Antigua and Barbuda  \\\n",
       "0  1800          603      667      715     1200     618                  757   \n",
       "1  1801          603      667      716     1200     620                  757   \n",
       "2  1802          603      667      717     1200     623                  757   \n",
       "3  1803          603      667      718     1200     626                  757   \n",
       "4  1804          603      667      719     1210     628                  757   \n",
       "\n",
       "   Argentina  Armenia  Australia    ...     United Kingdom  United States  \\\n",
       "0       1510      514        814    ...               3430           2130   \n",
       "1       1510      514        816    ...               3440           2170   \n",
       "2       1510      514        818    ...               3450           2200   \n",
       "3       1510      514        820    ...               3340           2170   \n",
       "4       1510      514        822    ...               3290           2170   \n",
       "\n",
       "   Uruguay  Uzbekistan  Vanuatu  Venezuela  Vietnam  Yemen  Zambia  Zimbabwe  \n",
       "0     1760         502      585        682      861    877     663       869  \n",
       "1     1760         502      586        682      861    879     665       870  \n",
       "2     1760         502      586        682      861    882     667       871  \n",
       "3     1760         502      586        682      861    884     668       872  \n",
       "4     1760         503      586        682      861    887     670       873  \n",
       "\n",
       "[5 rows x 194 columns]"
      ]
     },
     "execution_count": 38,
     "metadata": {},
     "output_type": "execute_result"
    }
   ],
   "source": [
    "income.head()"
   ]
  },
  {
   "cell_type": "code",
   "execution_count": 39,
   "metadata": {},
   "outputs": [
    {
     "data": {
      "text/html": [
       "<div>\n",
       "<style scoped>\n",
       "    .dataframe tbody tr th:only-of-type {\n",
       "        vertical-align: middle;\n",
       "    }\n",
       "\n",
       "    .dataframe tbody tr th {\n",
       "        vertical-align: top;\n",
       "    }\n",
       "\n",
       "    .dataframe thead th {\n",
       "        text-align: right;\n",
       "    }\n",
       "</style>\n",
       "<table border=\"1\" class=\"dataframe\">\n",
       "  <thead>\n",
       "    <tr style=\"text-align: right;\">\n",
       "      <th></th>\n",
       "      <th>Year</th>\n",
       "      <th>Afghanistan</th>\n",
       "      <th>Albania</th>\n",
       "      <th>Algeria</th>\n",
       "      <th>Andorra</th>\n",
       "      <th>Angola</th>\n",
       "      <th>Antigua and Barbuda</th>\n",
       "      <th>Argentina</th>\n",
       "      <th>Armenia</th>\n",
       "      <th>Australia</th>\n",
       "      <th>...</th>\n",
       "      <th>United Kingdom</th>\n",
       "      <th>United States</th>\n",
       "      <th>Uruguay</th>\n",
       "      <th>Uzbekistan</th>\n",
       "      <th>Vanuatu</th>\n",
       "      <th>Venezuela</th>\n",
       "      <th>Vietnam</th>\n",
       "      <th>Yemen</th>\n",
       "      <th>Zambia</th>\n",
       "      <th>Zimbabwe</th>\n",
       "    </tr>\n",
       "  </thead>\n",
       "  <tbody>\n",
       "    <tr>\n",
       "      <th>0</th>\n",
       "      <td>1800</td>\n",
       "      <td>NaN</td>\n",
       "      <td>NaN</td>\n",
       "      <td>NaN</td>\n",
       "      <td>NaN</td>\n",
       "      <td>NaN</td>\n",
       "      <td>NaN</td>\n",
       "      <td>NaN</td>\n",
       "      <td>NaN</td>\n",
       "      <td>NaN</td>\n",
       "      <td>...</td>\n",
       "      <td>2.16</td>\n",
       "      <td>0.0372</td>\n",
       "      <td>NaN</td>\n",
       "      <td>NaN</td>\n",
       "      <td>NaN</td>\n",
       "      <td>NaN</td>\n",
       "      <td>NaN</td>\n",
       "      <td>NaN</td>\n",
       "      <td>NaN</td>\n",
       "      <td>NaN</td>\n",
       "    </tr>\n",
       "    <tr>\n",
       "      <th>1</th>\n",
       "      <td>1801</td>\n",
       "      <td>NaN</td>\n",
       "      <td>NaN</td>\n",
       "      <td>NaN</td>\n",
       "      <td>NaN</td>\n",
       "      <td>NaN</td>\n",
       "      <td>NaN</td>\n",
       "      <td>NaN</td>\n",
       "      <td>NaN</td>\n",
       "      <td>NaN</td>\n",
       "      <td>...</td>\n",
       "      <td>2.14</td>\n",
       "      <td>0.0386</td>\n",
       "      <td>NaN</td>\n",
       "      <td>NaN</td>\n",
       "      <td>NaN</td>\n",
       "      <td>NaN</td>\n",
       "      <td>NaN</td>\n",
       "      <td>NaN</td>\n",
       "      <td>NaN</td>\n",
       "      <td>NaN</td>\n",
       "    </tr>\n",
       "    <tr>\n",
       "      <th>2</th>\n",
       "      <td>1802</td>\n",
       "      <td>NaN</td>\n",
       "      <td>NaN</td>\n",
       "      <td>NaN</td>\n",
       "      <td>NaN</td>\n",
       "      <td>NaN</td>\n",
       "      <td>NaN</td>\n",
       "      <td>NaN</td>\n",
       "      <td>NaN</td>\n",
       "      <td>NaN</td>\n",
       "      <td>...</td>\n",
       "      <td>2.13</td>\n",
       "      <td>0.0410</td>\n",
       "      <td>NaN</td>\n",
       "      <td>NaN</td>\n",
       "      <td>NaN</td>\n",
       "      <td>NaN</td>\n",
       "      <td>NaN</td>\n",
       "      <td>NaN</td>\n",
       "      <td>NaN</td>\n",
       "      <td>NaN</td>\n",
       "    </tr>\n",
       "    <tr>\n",
       "      <th>3</th>\n",
       "      <td>1803</td>\n",
       "      <td>NaN</td>\n",
       "      <td>NaN</td>\n",
       "      <td>NaN</td>\n",
       "      <td>NaN</td>\n",
       "      <td>NaN</td>\n",
       "      <td>NaN</td>\n",
       "      <td>NaN</td>\n",
       "      <td>NaN</td>\n",
       "      <td>NaN</td>\n",
       "      <td>...</td>\n",
       "      <td>2.36</td>\n",
       "      <td>0.0412</td>\n",
       "      <td>NaN</td>\n",
       "      <td>NaN</td>\n",
       "      <td>NaN</td>\n",
       "      <td>NaN</td>\n",
       "      <td>NaN</td>\n",
       "      <td>NaN</td>\n",
       "      <td>NaN</td>\n",
       "      <td>NaN</td>\n",
       "    </tr>\n",
       "    <tr>\n",
       "      <th>4</th>\n",
       "      <td>1804</td>\n",
       "      <td>NaN</td>\n",
       "      <td>NaN</td>\n",
       "      <td>NaN</td>\n",
       "      <td>NaN</td>\n",
       "      <td>NaN</td>\n",
       "      <td>NaN</td>\n",
       "      <td>NaN</td>\n",
       "      <td>NaN</td>\n",
       "      <td>NaN</td>\n",
       "      <td>...</td>\n",
       "      <td>2.34</td>\n",
       "      <td>0.0454</td>\n",
       "      <td>NaN</td>\n",
       "      <td>NaN</td>\n",
       "      <td>NaN</td>\n",
       "      <td>NaN</td>\n",
       "      <td>NaN</td>\n",
       "      <td>NaN</td>\n",
       "      <td>NaN</td>\n",
       "      <td>NaN</td>\n",
       "    </tr>\n",
       "  </tbody>\n",
       "</table>\n",
       "<p>5 rows × 193 columns</p>\n",
       "</div>"
      ],
      "text/plain": [
       "   Year  Afghanistan  Albania  Algeria  Andorra  Angola  Antigua and Barbuda  \\\n",
       "0  1800          NaN      NaN      NaN      NaN     NaN                  NaN   \n",
       "1  1801          NaN      NaN      NaN      NaN     NaN                  NaN   \n",
       "2  1802          NaN      NaN      NaN      NaN     NaN                  NaN   \n",
       "3  1803          NaN      NaN      NaN      NaN     NaN                  NaN   \n",
       "4  1804          NaN      NaN      NaN      NaN     NaN                  NaN   \n",
       "\n",
       "   Argentina  Armenia  Australia    ...     United Kingdom  United States  \\\n",
       "0        NaN      NaN        NaN    ...               2.16         0.0372   \n",
       "1        NaN      NaN        NaN    ...               2.14         0.0386   \n",
       "2        NaN      NaN        NaN    ...               2.13         0.0410   \n",
       "3        NaN      NaN        NaN    ...               2.36         0.0412   \n",
       "4        NaN      NaN        NaN    ...               2.34         0.0454   \n",
       "\n",
       "   Uruguay  Uzbekistan  Vanuatu  Venezuela  Vietnam  Yemen  Zambia  Zimbabwe  \n",
       "0      NaN         NaN      NaN        NaN      NaN    NaN     NaN       NaN  \n",
       "1      NaN         NaN      NaN        NaN      NaN    NaN     NaN       NaN  \n",
       "2      NaN         NaN      NaN        NaN      NaN    NaN     NaN       NaN  \n",
       "3      NaN         NaN      NaN        NaN      NaN    NaN     NaN       NaN  \n",
       "4      NaN         NaN      NaN        NaN      NaN    NaN     NaN       NaN  \n",
       "\n",
       "[5 rows x 193 columns]"
      ]
     },
     "execution_count": 39,
     "metadata": {},
     "output_type": "execute_result"
    }
   ],
   "source": [
    "co2.head()"
   ]
  },
  {
   "cell_type": "code",
   "execution_count": 40,
   "metadata": {},
   "outputs": [
    {
     "data": {
      "text/html": [
       "<div>\n",
       "<style scoped>\n",
       "    .dataframe tbody tr th:only-of-type {\n",
       "        vertical-align: middle;\n",
       "    }\n",
       "\n",
       "    .dataframe tbody tr th {\n",
       "        vertical-align: top;\n",
       "    }\n",
       "\n",
       "    .dataframe thead th {\n",
       "        text-align: right;\n",
       "    }\n",
       "</style>\n",
       "<table border=\"1\" class=\"dataframe\">\n",
       "  <thead>\n",
       "    <tr style=\"text-align: right;\">\n",
       "      <th></th>\n",
       "      <th>Year</th>\n",
       "      <th>Afghanistan</th>\n",
       "      <th>Albania</th>\n",
       "      <th>Algeria</th>\n",
       "      <th>Andorra</th>\n",
       "      <th>Angola</th>\n",
       "      <th>Antigua and Barbuda</th>\n",
       "      <th>Argentina</th>\n",
       "      <th>Armenia</th>\n",
       "      <th>Australia</th>\n",
       "      <th>...</th>\n",
       "      <th>United Kingdom</th>\n",
       "      <th>United States</th>\n",
       "      <th>Uruguay</th>\n",
       "      <th>Uzbekistan</th>\n",
       "      <th>Vanuatu</th>\n",
       "      <th>Venezuela</th>\n",
       "      <th>Vietnam</th>\n",
       "      <th>Yemen</th>\n",
       "      <th>Zambia</th>\n",
       "      <th>Zimbabwe</th>\n",
       "    </tr>\n",
       "  </thead>\n",
       "  <tbody>\n",
       "    <tr>\n",
       "      <th>0</th>\n",
       "      <td>1800</td>\n",
       "      <td>3280000</td>\n",
       "      <td>410000</td>\n",
       "      <td>2500000</td>\n",
       "      <td>2650</td>\n",
       "      <td>1570000</td>\n",
       "      <td>37000</td>\n",
       "      <td>534000</td>\n",
       "      <td>413000</td>\n",
       "      <td>351000</td>\n",
       "      <td>...</td>\n",
       "      <td>12300000</td>\n",
       "      <td>6800000</td>\n",
       "      <td>55000</td>\n",
       "      <td>1920000</td>\n",
       "      <td>27800</td>\n",
       "      <td>718000</td>\n",
       "      <td>6550000</td>\n",
       "      <td>2590000</td>\n",
       "      <td>747000</td>\n",
       "      <td>1090000</td>\n",
       "    </tr>\n",
       "    <tr>\n",
       "      <th>1</th>\n",
       "      <td>1801</td>\n",
       "      <td>3280000</td>\n",
       "      <td>412000</td>\n",
       "      <td>2510000</td>\n",
       "      <td>2650</td>\n",
       "      <td>1570000</td>\n",
       "      <td>37000</td>\n",
       "      <td>534000</td>\n",
       "      <td>413000</td>\n",
       "      <td>350000</td>\n",
       "      <td>...</td>\n",
       "      <td>12500000</td>\n",
       "      <td>6930000</td>\n",
       "      <td>55000</td>\n",
       "      <td>1920000</td>\n",
       "      <td>27800</td>\n",
       "      <td>718000</td>\n",
       "      <td>6550000</td>\n",
       "      <td>2590000</td>\n",
       "      <td>747000</td>\n",
       "      <td>1090000</td>\n",
       "    </tr>\n",
       "    <tr>\n",
       "      <th>2</th>\n",
       "      <td>1802</td>\n",
       "      <td>3280000</td>\n",
       "      <td>413000</td>\n",
       "      <td>2520000</td>\n",
       "      <td>2650</td>\n",
       "      <td>1570000</td>\n",
       "      <td>37000</td>\n",
       "      <td>534000</td>\n",
       "      <td>413000</td>\n",
       "      <td>349000</td>\n",
       "      <td>...</td>\n",
       "      <td>12600000</td>\n",
       "      <td>7070000</td>\n",
       "      <td>55000</td>\n",
       "      <td>1920000</td>\n",
       "      <td>27800</td>\n",
       "      <td>718000</td>\n",
       "      <td>6550000</td>\n",
       "      <td>2590000</td>\n",
       "      <td>747000</td>\n",
       "      <td>1090000</td>\n",
       "    </tr>\n",
       "    <tr>\n",
       "      <th>3</th>\n",
       "      <td>1803</td>\n",
       "      <td>3280000</td>\n",
       "      <td>414000</td>\n",
       "      <td>2530000</td>\n",
       "      <td>2650</td>\n",
       "      <td>1570000</td>\n",
       "      <td>37000</td>\n",
       "      <td>534000</td>\n",
       "      <td>413000</td>\n",
       "      <td>348000</td>\n",
       "      <td>...</td>\n",
       "      <td>12800000</td>\n",
       "      <td>7200000</td>\n",
       "      <td>55000</td>\n",
       "      <td>1920000</td>\n",
       "      <td>27800</td>\n",
       "      <td>718000</td>\n",
       "      <td>6550000</td>\n",
       "      <td>2590000</td>\n",
       "      <td>747000</td>\n",
       "      <td>1090000</td>\n",
       "    </tr>\n",
       "    <tr>\n",
       "      <th>4</th>\n",
       "      <td>1804</td>\n",
       "      <td>3280000</td>\n",
       "      <td>416000</td>\n",
       "      <td>2540000</td>\n",
       "      <td>2650</td>\n",
       "      <td>1570000</td>\n",
       "      <td>37000</td>\n",
       "      <td>534000</td>\n",
       "      <td>413000</td>\n",
       "      <td>348000</td>\n",
       "      <td>...</td>\n",
       "      <td>13000000</td>\n",
       "      <td>7340000</td>\n",
       "      <td>55000</td>\n",
       "      <td>1920000</td>\n",
       "      <td>27800</td>\n",
       "      <td>718000</td>\n",
       "      <td>6550000</td>\n",
       "      <td>2590000</td>\n",
       "      <td>747000</td>\n",
       "      <td>1090000</td>\n",
       "    </tr>\n",
       "  </tbody>\n",
       "</table>\n",
       "<p>5 rows × 196 columns</p>\n",
       "</div>"
      ],
      "text/plain": [
       "   Year  Afghanistan  Albania  Algeria  Andorra   Angola  Antigua and Barbuda  \\\n",
       "0  1800      3280000   410000  2500000     2650  1570000                37000   \n",
       "1  1801      3280000   412000  2510000     2650  1570000                37000   \n",
       "2  1802      3280000   413000  2520000     2650  1570000                37000   \n",
       "3  1803      3280000   414000  2530000     2650  1570000                37000   \n",
       "4  1804      3280000   416000  2540000     2650  1570000                37000   \n",
       "\n",
       "   Argentina  Armenia  Australia    ...     United Kingdom  United States  \\\n",
       "0     534000   413000     351000    ...           12300000        6800000   \n",
       "1     534000   413000     350000    ...           12500000        6930000   \n",
       "2     534000   413000     349000    ...           12600000        7070000   \n",
       "3     534000   413000     348000    ...           12800000        7200000   \n",
       "4     534000   413000     348000    ...           13000000        7340000   \n",
       "\n",
       "   Uruguay  Uzbekistan  Vanuatu  Venezuela  Vietnam    Yemen  Zambia  Zimbabwe  \n",
       "0    55000     1920000    27800     718000  6550000  2590000  747000   1090000  \n",
       "1    55000     1920000    27800     718000  6550000  2590000  747000   1090000  \n",
       "2    55000     1920000    27800     718000  6550000  2590000  747000   1090000  \n",
       "3    55000     1920000    27800     718000  6550000  2590000  747000   1090000  \n",
       "4    55000     1920000    27800     718000  6550000  2590000  747000   1090000  \n",
       "\n",
       "[5 rows x 196 columns]"
      ]
     },
     "execution_count": 40,
     "metadata": {},
     "output_type": "execute_result"
    }
   ],
   "source": [
    "population.head()"
   ]
  },
  {
   "cell_type": "code",
   "execution_count": 41,
   "metadata": {},
   "outputs": [],
   "source": [
    "population_melt = pd.melt(population, id_vars = ['Year'],var_name='Country')\n",
    "income_melt = pd.melt(income, id_vars = ['Year'],var_name='Country')\n",
    "co2_melt = pd.melt(co2, id_vars = ['Year'],var_name='Country')"
   ]
  },
  {
   "cell_type": "code",
   "execution_count": 42,
   "metadata": {},
   "outputs": [],
   "source": [
    "income_melt.rename(columns={'value':'Income'},inplace=True)\n",
    "co2_melt.rename(columns={'value':'Co2_per_person'},inplace=True)\n",
    "population_melt.rename(columns={'value':'Population'},inplace=True)"
   ]
  },
  {
   "cell_type": "code",
   "execution_count": 43,
   "metadata": {},
   "outputs": [],
   "source": [
    "melt_table = pd.merge(population_melt,income_melt, on=['Year','Country'], how=\"outer\")"
   ]
  },
  {
   "cell_type": "code",
   "execution_count": 44,
   "metadata": {},
   "outputs": [],
   "source": [
    "melt_table = pd.merge(melt_table,co2_melt, on=['Year','Country'], how=\"outer\")"
   ]
  },
  {
   "cell_type": "code",
   "execution_count": 45,
   "metadata": {},
   "outputs": [
    {
     "data": {
      "text/html": [
       "<div>\n",
       "<style scoped>\n",
       "    .dataframe tbody tr th:only-of-type {\n",
       "        vertical-align: middle;\n",
       "    }\n",
       "\n",
       "    .dataframe tbody tr th {\n",
       "        vertical-align: top;\n",
       "    }\n",
       "\n",
       "    .dataframe thead th {\n",
       "        text-align: right;\n",
       "    }\n",
       "</style>\n",
       "<table border=\"1\" class=\"dataframe\">\n",
       "  <thead>\n",
       "    <tr style=\"text-align: right;\">\n",
       "      <th></th>\n",
       "      <th>Year</th>\n",
       "      <th>Country</th>\n",
       "      <th>Population</th>\n",
       "      <th>Income</th>\n",
       "      <th>Co2_per_person</th>\n",
       "    </tr>\n",
       "  </thead>\n",
       "  <tbody>\n",
       "    <tr>\n",
       "      <th>0</th>\n",
       "      <td>1800</td>\n",
       "      <td>Afghanistan</td>\n",
       "      <td>3280000</td>\n",
       "      <td>603.0</td>\n",
       "      <td>NaN</td>\n",
       "    </tr>\n",
       "    <tr>\n",
       "      <th>1</th>\n",
       "      <td>1801</td>\n",
       "      <td>Afghanistan</td>\n",
       "      <td>3280000</td>\n",
       "      <td>603.0</td>\n",
       "      <td>NaN</td>\n",
       "    </tr>\n",
       "    <tr>\n",
       "      <th>2</th>\n",
       "      <td>1802</td>\n",
       "      <td>Afghanistan</td>\n",
       "      <td>3280000</td>\n",
       "      <td>603.0</td>\n",
       "      <td>NaN</td>\n",
       "    </tr>\n",
       "    <tr>\n",
       "      <th>3</th>\n",
       "      <td>1803</td>\n",
       "      <td>Afghanistan</td>\n",
       "      <td>3280000</td>\n",
       "      <td>603.0</td>\n",
       "      <td>NaN</td>\n",
       "    </tr>\n",
       "    <tr>\n",
       "      <th>4</th>\n",
       "      <td>1804</td>\n",
       "      <td>Afghanistan</td>\n",
       "      <td>3280000</td>\n",
       "      <td>603.0</td>\n",
       "      <td>NaN</td>\n",
       "    </tr>\n",
       "  </tbody>\n",
       "</table>\n",
       "</div>"
      ],
      "text/plain": [
       "   Year      Country  Population  Income  Co2_per_person\n",
       "0  1800  Afghanistan     3280000   603.0             NaN\n",
       "1  1801  Afghanistan     3280000   603.0             NaN\n",
       "2  1802  Afghanistan     3280000   603.0             NaN\n",
       "3  1803  Afghanistan     3280000   603.0             NaN\n",
       "4  1804  Afghanistan     3280000   603.0             NaN"
      ]
     },
     "execution_count": 45,
     "metadata": {},
     "output_type": "execute_result"
    }
   ],
   "source": [
    "melt_table.head()"
   ]
  },
  {
   "cell_type": "code",
   "execution_count": 46,
   "metadata": {},
   "outputs": [
    {
     "data": {
      "text/plain": [
       "1800"
      ]
     },
     "execution_count": 46,
     "metadata": {},
     "output_type": "execute_result"
    }
   ],
   "source": [
    "#What is the first year and last year for the combined data?\n",
    "#first year:\n",
    "melt_table['Year'].min()"
   ]
  },
  {
   "cell_type": "code",
   "execution_count": 47,
   "metadata": {},
   "outputs": [
    {
     "data": {
      "text/plain": [
       "2018"
      ]
     },
     "execution_count": 47,
     "metadata": {},
     "output_type": "execute_result"
    }
   ],
   "source": [
    "#last year:\n",
    "melt_table['Year'].max()"
   ]
  },
  {
   "cell_type": "code",
   "execution_count": 48,
   "metadata": {},
   "outputs": [],
   "source": [
    "#2. Now that you have the data combined, we can see whether there is a relationship between CO2 emissions and the population. \n",
    "#Plot the values against each other.\n",
    "# Can you see a relationship there?"
   ]
  },
  {
   "cell_type": "code",
   "execution_count": 49,
   "metadata": {},
   "outputs": [],
   "source": [
    "melt_table['Co2_sum'] = melt_table['Population']* melt_table['Co2_per_person']"
   ]
  },
  {
   "cell_type": "code",
   "execution_count": 50,
   "metadata": {},
   "outputs": [],
   "source": [
    "#get the australia, China, USA merge table which use to plot the elationship between CO2 emissions and the population in Australia, China, USA\n",
    "AustraliaMerge = melt_table[(melt_table.Country == 'Australia')]\n",
    "ChinaMerge = melt_table[(melt_table.Country == 'China')]\n",
    "USAMerge = melt_table[(melt_table.Country == 'United States')]"
   ]
  },
  {
   "cell_type": "code",
   "execution_count": 51,
   "metadata": {},
   "outputs": [
    {
     "data": {
      "text/html": [
       "<div>\n",
       "<style scoped>\n",
       "    .dataframe tbody tr th:only-of-type {\n",
       "        vertical-align: middle;\n",
       "    }\n",
       "\n",
       "    .dataframe tbody tr th {\n",
       "        vertical-align: top;\n",
       "    }\n",
       "\n",
       "    .dataframe thead th {\n",
       "        text-align: right;\n",
       "    }\n",
       "</style>\n",
       "<table border=\"1\" class=\"dataframe\">\n",
       "  <thead>\n",
       "    <tr style=\"text-align: right;\">\n",
       "      <th></th>\n",
       "      <th>Year</th>\n",
       "      <th>Country</th>\n",
       "      <th>Population</th>\n",
       "      <th>Income</th>\n",
       "      <th>Co2_per_person</th>\n",
       "      <th>Co2_sum</th>\n",
       "    </tr>\n",
       "  </thead>\n",
       "  <tbody>\n",
       "    <tr>\n",
       "      <th>0</th>\n",
       "      <td>1800</td>\n",
       "      <td>Afghanistan</td>\n",
       "      <td>3280000</td>\n",
       "      <td>603.0</td>\n",
       "      <td>NaN</td>\n",
       "      <td>NaN</td>\n",
       "    </tr>\n",
       "    <tr>\n",
       "      <th>1</th>\n",
       "      <td>1801</td>\n",
       "      <td>Afghanistan</td>\n",
       "      <td>3280000</td>\n",
       "      <td>603.0</td>\n",
       "      <td>NaN</td>\n",
       "      <td>NaN</td>\n",
       "    </tr>\n",
       "    <tr>\n",
       "      <th>2</th>\n",
       "      <td>1802</td>\n",
       "      <td>Afghanistan</td>\n",
       "      <td>3280000</td>\n",
       "      <td>603.0</td>\n",
       "      <td>NaN</td>\n",
       "      <td>NaN</td>\n",
       "    </tr>\n",
       "    <tr>\n",
       "      <th>3</th>\n",
       "      <td>1803</td>\n",
       "      <td>Afghanistan</td>\n",
       "      <td>3280000</td>\n",
       "      <td>603.0</td>\n",
       "      <td>NaN</td>\n",
       "      <td>NaN</td>\n",
       "    </tr>\n",
       "    <tr>\n",
       "      <th>4</th>\n",
       "      <td>1804</td>\n",
       "      <td>Afghanistan</td>\n",
       "      <td>3280000</td>\n",
       "      <td>603.0</td>\n",
       "      <td>NaN</td>\n",
       "      <td>NaN</td>\n",
       "    </tr>\n",
       "  </tbody>\n",
       "</table>\n",
       "</div>"
      ],
      "text/plain": [
       "   Year      Country  Population  Income  Co2_per_person  Co2_sum\n",
       "0  1800  Afghanistan     3280000   603.0             NaN      NaN\n",
       "1  1801  Afghanistan     3280000   603.0             NaN      NaN\n",
       "2  1802  Afghanistan     3280000   603.0             NaN      NaN\n",
       "3  1803  Afghanistan     3280000   603.0             NaN      NaN\n",
       "4  1804  Afghanistan     3280000   603.0             NaN      NaN"
      ]
     },
     "execution_count": 51,
     "metadata": {},
     "output_type": "execute_result"
    }
   ],
   "source": [
    "melt_table.head()"
   ]
  },
  {
   "cell_type": "code",
   "execution_count": 52,
   "metadata": {},
   "outputs": [
    {
     "data": {
      "text/html": [
       "<div>\n",
       "<style scoped>\n",
       "    .dataframe tbody tr th:only-of-type {\n",
       "        vertical-align: middle;\n",
       "    }\n",
       "\n",
       "    .dataframe tbody tr th {\n",
       "        vertical-align: top;\n",
       "    }\n",
       "\n",
       "    .dataframe thead th {\n",
       "        text-align: right;\n",
       "    }\n",
       "</style>\n",
       "<table border=\"1\" class=\"dataframe\">\n",
       "  <thead>\n",
       "    <tr style=\"text-align: right;\">\n",
       "      <th></th>\n",
       "      <th>Year</th>\n",
       "      <th>Population</th>\n",
       "      <th>Co2_per_person</th>\n",
       "      <th>Income</th>\n",
       "    </tr>\n",
       "  </thead>\n",
       "  <tbody>\n",
       "    <tr>\n",
       "      <th>0</th>\n",
       "      <td>1800</td>\n",
       "      <td>4.858439e+06</td>\n",
       "      <td>0.456096</td>\n",
       "      <td>947.782383</td>\n",
       "    </tr>\n",
       "    <tr>\n",
       "      <th>1</th>\n",
       "      <td>1801</td>\n",
       "      <td>4.875184e+06</td>\n",
       "      <td>0.450782</td>\n",
       "      <td>948.269430</td>\n",
       "    </tr>\n",
       "    <tr>\n",
       "      <th>2</th>\n",
       "      <td>1802</td>\n",
       "      <td>4.896420e+06</td>\n",
       "      <td>0.620493</td>\n",
       "      <td>951.217617</td>\n",
       "    </tr>\n",
       "    <tr>\n",
       "      <th>3</th>\n",
       "      <td>1803</td>\n",
       "      <td>4.921854e+06</td>\n",
       "      <td>0.495536</td>\n",
       "      <td>950.911917</td>\n",
       "    </tr>\n",
       "    <tr>\n",
       "      <th>4</th>\n",
       "      <td>1804</td>\n",
       "      <td>4.944249e+06</td>\n",
       "      <td>0.425787</td>\n",
       "      <td>952.772021</td>\n",
       "    </tr>\n",
       "  </tbody>\n",
       "</table>\n",
       "</div>"
      ],
      "text/plain": [
       "   Year    Population  Co2_per_person      Income\n",
       "0  1800  4.858439e+06        0.456096  947.782383\n",
       "1  1801  4.875184e+06        0.450782  948.269430\n",
       "2  1802  4.896420e+06        0.620493  951.217617\n",
       "3  1803  4.921854e+06        0.495536  950.911917\n",
       "4  1804  4.944249e+06        0.425787  952.772021"
      ]
     },
     "execution_count": 52,
     "metadata": {},
     "output_type": "execute_result"
    }
   ],
   "source": [
    "average_melt_table = melt_table.groupby('Year')['Population','Co2_per_person','Income'].mean().reset_index()\n",
    "average_melt_table.head()"
   ]
  },
  {
   "cell_type": "code",
   "execution_count": 53,
   "metadata": {},
   "outputs": [
    {
     "data": {
      "image/png": "[encoded data removed]",
      "text/plain": [
       "<matplotlib.figure.Figure at 0x18594064278>"
      ]
     },
     "metadata": {},
     "output_type": "display_data"
    }
   ],
   "source": [
    "#2.relationship between CO2 emissions per person and the population. \n",
    "plt.plot(average_melt_table.Population,average_melt_table.Co2_per_person)\n",
    "plt.title(\"The relationship between Co2 emission per person and Population \", fontsize = 20)\n",
    "plt.xlabel(\"Population\", fontsize = 15)\n",
    "plt.ylabel(\"Co2_emission_per_person\", fontsize = 15)\n",
    "plt.show()"
   ]
  },
  {
   "cell_type": "code",
   "execution_count": 54,
   "metadata": {},
   "outputs": [
    {
     "data": {
      "image/png": "[encoded data removed]",
      "text/plain": [
       "<matplotlib.figure.Figure at 0x1859413f438>"
      ]
     },
     "metadata": {},
     "output_type": "display_data"
    }
   ],
   "source": [
    "#2.relationship between CO2 emissions per person and the population. \n",
    "plt.plot(melt_table.Population,melt_table.Co2_sum)\n",
    "plt.title(\"The relationship between Co2 emission and Population \", fontsize = 20)\n",
    "plt.xlabel(\"Population\", fontsize = 15)\n",
    "plt.ylabel(\"Co2_emission\", fontsize = 15)\n",
    "plt.show()"
   ]
  },
  {
   "cell_type": "code",
   "execution_count": 55,
   "metadata": {},
   "outputs": [
    {
     "data": {
      "text/plain": [
       "Text(0,0.5,'Co2 emission')"
      ]
     },
     "execution_count": 55,
     "metadata": {},
     "output_type": "execute_result"
    },
    {
     "data": {
      "image/png": "[encoded data removed]",
      "text/plain": [
       "<matplotlib.figure.Figure at 0x18595185b00>"
      ]
     },
     "metadata": {},
     "output_type": "display_data"
    }
   ],
   "source": [
    "#3.Try selecting and plotting only the data for Australia, China and United States\n",
    "plt.plot(AustraliaMerge.Population,AustraliaMerge.Co2_sum, color='green', label='Australia'),\n",
    "plt.plot(ChinaMerge.Population, ChinaMerge.Co2_sum, color='yellow', label='China'),\n",
    "plt.plot(USAMerge.Population, AustraliaMerge.Co2_sum, color='red', label='USA'),\n",
    "plt.title(\"Relationship between sum of CO2 emissions and the population, Australia,China and USA \",fontsize=20)\n",
    "plt.legend()\n",
    "plt.xlabel(\"Population\",fontsize=14)\n",
    "plt.ylabel(\"Co2 emission\",fontsize=14)"
   ]
  },
  {
   "cell_type": "code",
   "execution_count": 56,
   "metadata": {},
   "outputs": [
    {
     "data": {
      "text/plain": [
       "Text(0,0.5,'Co2 emission per person')"
      ]
     },
     "execution_count": 56,
     "metadata": {},
     "output_type": "execute_result"
    },
    {
     "data": {
      "image/png": "[encoded data removed]",
      "text/plain": [
       "<matplotlib.figure.Figure at 0x1859514c5f8>"
      ]
     },
     "metadata": {},
     "output_type": "display_data"
    }
   ],
   "source": [
    "plt.plot(AustraliaMerge.Population,AustraliaMerge.Co2_per_person, color='green', label='Australia'),\n",
    "plt.plot(ChinaMerge.Population, ChinaMerge.Co2_per_person, color='yellow', label='China'),\n",
    "plt.plot(USAMerge.Population, AustraliaMerge.Co2_per_person, color='red', label='USA'),\n",
    "plt.title(\"Relationship between CO2 emissions per person and the population, Australia,China and USA \",fontsize=20)\n",
    "plt.legend()\n",
    "plt.xlabel(\"Population\",fontsize=14)\n",
    "plt.ylabel(\"Co2 emission per person\",fontsize=14)"
   ]
  },
  {
   "cell_type": "code",
   "execution_count": 57,
   "metadata": {},
   "outputs": [],
   "source": [
    "#The motion chart should show the CO2 emissions on the x-axis,\n",
    "#the income on the y-axis, and the bubble size should depend on the population."
   ]
  },
  {
   "cell_type": "code",
   "execution_count": 58,
   "metadata": {},
   "outputs": [],
   "source": [
    "from motionchart.motionchart import MotionChart\n",
    "import pandas as pd"
   ]
  },
  {
   "cell_type": "code",
   "execution_count": 59,
   "metadata": {},
   "outputs": [
    {
     "data": {
      "text/html": [
       "<div>\n",
       "<style scoped>\n",
       "    .dataframe tbody tr th:only-of-type {\n",
       "        vertical-align: middle;\n",
       "    }\n",
       "\n",
       "    .dataframe tbody tr th {\n",
       "        vertical-align: top;\n",
       "    }\n",
       "\n",
       "    .dataframe thead th {\n",
       "        text-align: right;\n",
       "    }\n",
       "</style>\n",
       "<table border=\"1\" class=\"dataframe\">\n",
       "  <thead>\n",
       "    <tr style=\"text-align: right;\">\n",
       "      <th></th>\n",
       "      <th>Year</th>\n",
       "      <th>Country</th>\n",
       "      <th>Population</th>\n",
       "      <th>Income</th>\n",
       "      <th>Co2_per_person</th>\n",
       "      <th>Co2_sum</th>\n",
       "    </tr>\n",
       "  </thead>\n",
       "  <tbody>\n",
       "    <tr>\n",
       "      <th>0</th>\n",
       "      <td>1800</td>\n",
       "      <td>Afghanistan</td>\n",
       "      <td>3280000</td>\n",
       "      <td>603.0</td>\n",
       "      <td>NaN</td>\n",
       "      <td>NaN</td>\n",
       "    </tr>\n",
       "    <tr>\n",
       "      <th>1</th>\n",
       "      <td>1801</td>\n",
       "      <td>Afghanistan</td>\n",
       "      <td>3280000</td>\n",
       "      <td>603.0</td>\n",
       "      <td>NaN</td>\n",
       "      <td>NaN</td>\n",
       "    </tr>\n",
       "    <tr>\n",
       "      <th>2</th>\n",
       "      <td>1802</td>\n",
       "      <td>Afghanistan</td>\n",
       "      <td>3280000</td>\n",
       "      <td>603.0</td>\n",
       "      <td>NaN</td>\n",
       "      <td>NaN</td>\n",
       "    </tr>\n",
       "    <tr>\n",
       "      <th>3</th>\n",
       "      <td>1803</td>\n",
       "      <td>Afghanistan</td>\n",
       "      <td>3280000</td>\n",
       "      <td>603.0</td>\n",
       "      <td>NaN</td>\n",
       "      <td>NaN</td>\n",
       "    </tr>\n",
       "    <tr>\n",
       "      <th>4</th>\n",
       "      <td>1804</td>\n",
       "      <td>Afghanistan</td>\n",
       "      <td>3280000</td>\n",
       "      <td>603.0</td>\n",
       "      <td>NaN</td>\n",
       "      <td>NaN</td>\n",
       "    </tr>\n",
       "  </tbody>\n",
       "</table>\n",
       "</div>"
      ],
      "text/plain": [
       "   Year      Country  Population  Income  Co2_per_person  Co2_sum\n",
       "0  1800  Afghanistan     3280000   603.0             NaN      NaN\n",
       "1  1801  Afghanistan     3280000   603.0             NaN      NaN\n",
       "2  1802  Afghanistan     3280000   603.0             NaN      NaN\n",
       "3  1803  Afghanistan     3280000   603.0             NaN      NaN\n",
       "4  1804  Afghanistan     3280000   603.0             NaN      NaN"
      ]
     },
     "execution_count": 59,
     "metadata": {},
     "output_type": "execute_result"
    }
   ],
   "source": [
    "melt_table.head()"
   ]
  },
  {
   "cell_type": "code",
   "execution_count": 60,
   "metadata": {},
   "outputs": [
    {
     "data": {
      "text/html": [
       "<style>\n",
       ".output_wrapper, .output {\n",
       "    height:auto !important;\n",
       "    max-height:1000px;  /* your desired max-height here */\n",
       "}\n",
       ".output_scroll {\n",
       "    box-shadow:none !important;\n",
       "    webkit-box-shadow:none !important;\n",
       "}\n",
       "</style>"
      ],
      "text/plain": [
       "<IPython.core.display.HTML object>"
      ]
     },
     "metadata": {},
     "output_type": "display_data"
    }
   ],
   "source": [
    "%%html\n",
    "<style>\n",
    ".output_wrapper, .output {\n",
    "    height:auto !important;\n",
    "    max-height:1000px;  /* your desired max-height here */\n",
    "}\n",
    ".output_scroll {\n",
    "    box-shadow:none !important;\n",
    "    webkit-box-shadow:none !important;\n",
    "}\n",
    "</style>"
   ]
  },
  {
   "cell_type": "code",
   "execution_count": 62,
   "metadata": {
    "scrolled": true
   },
   "outputs": [
    {
     "data": {
      "text/html": [
       "\n",
       "        <iframe\n",
       "            width=\"900\"\n",
       "            height=\"700\"\n",
       "            src=\"mc_temp.html\"\n",
       "            frameborder=\"0\"\n",
       "            allowfullscreen\n",
       "        ></iframe>\n",
       "        "
      ],
      "text/plain": [
       "<IPython.lib.display.IFrame at 0x18595166470>"
      ]
     },
     "metadata": {},
     "output_type": "display_data"
    }
   ],
   "source": [
    "mChart1 = MotionChart(df = melt_table, key='Year', x='Co2_per_person', y='Income' , xscale='linear', yscale='linear',\n",
    "                    size='Population',color=\"Country\")\n",
    "\n",
    "mChart1.to_notebook()"
   ]
  },
  {
   "cell_type": "code",
   "execution_count": 70,
   "metadata": {},
   "outputs": [
    {
     "data": {
      "text/html": [
       "\n",
       "        <iframe\n",
       "            width=\"900\"\n",
       "            height=\"700\"\n",
       "            src=\"mc_temp.html\"\n",
       "            frameborder=\"0\"\n",
       "            allowfullscreen\n",
       "        ></iframe>\n",
       "        "
      ],
      "text/plain": [
       "<IPython.lib.display.IFrame at 0x1859412e240>"
      ]
     },
     "metadata": {},
     "output_type": "display_data"
    }
   ],
   "source": [
    "#relation between Co2_sum and Income\n",
    "mChart0 = MotionChart(df = melt_table, key='Year', x='Co2_sum', y='Income' , xscale='linear', yscale='linear',\n",
    "                    size='Population',color=\"Country\")\n",
    "\n",
    "mChart0.to_notebook()"
   ]
  },
  {
   "cell_type": "code",
   "execution_count": 63,
   "metadata": {},
   "outputs": [
    {
     "data": {
      "text/html": [
       "<div>\n",
       "<style scoped>\n",
       "    .dataframe tbody tr th:only-of-type {\n",
       "        vertical-align: middle;\n",
       "    }\n",
       "\n",
       "    .dataframe tbody tr th {\n",
       "        vertical-align: top;\n",
       "    }\n",
       "\n",
       "    .dataframe thead th {\n",
       "        text-align: right;\n",
       "    }\n",
       "</style>\n",
       "<table border=\"1\" class=\"dataframe\">\n",
       "  <thead>\n",
       "    <tr style=\"text-align: right;\">\n",
       "      <th></th>\n",
       "      <th>Year</th>\n",
       "      <th>Country</th>\n",
       "      <th>Population</th>\n",
       "      <th>Income</th>\n",
       "      <th>Co2_per_person</th>\n",
       "      <th>Co2_sum</th>\n",
       "    </tr>\n",
       "  </thead>\n",
       "  <tbody>\n",
       "    <tr>\n",
       "      <th>0</th>\n",
       "      <td>1800</td>\n",
       "      <td>Afghanistan</td>\n",
       "      <td>3280000</td>\n",
       "      <td>603.0</td>\n",
       "      <td>NaN</td>\n",
       "      <td>NaN</td>\n",
       "    </tr>\n",
       "    <tr>\n",
       "      <th>1</th>\n",
       "      <td>1801</td>\n",
       "      <td>Afghanistan</td>\n",
       "      <td>3280000</td>\n",
       "      <td>603.0</td>\n",
       "      <td>NaN</td>\n",
       "      <td>NaN</td>\n",
       "    </tr>\n",
       "    <tr>\n",
       "      <th>2</th>\n",
       "      <td>1802</td>\n",
       "      <td>Afghanistan</td>\n",
       "      <td>3280000</td>\n",
       "      <td>603.0</td>\n",
       "      <td>NaN</td>\n",
       "      <td>NaN</td>\n",
       "    </tr>\n",
       "    <tr>\n",
       "      <th>3</th>\n",
       "      <td>1803</td>\n",
       "      <td>Afghanistan</td>\n",
       "      <td>3280000</td>\n",
       "      <td>603.0</td>\n",
       "      <td>NaN</td>\n",
       "      <td>NaN</td>\n",
       "    </tr>\n",
       "    <tr>\n",
       "      <th>4</th>\n",
       "      <td>1804</td>\n",
       "      <td>Afghanistan</td>\n",
       "      <td>3280000</td>\n",
       "      <td>603.0</td>\n",
       "      <td>NaN</td>\n",
       "      <td>NaN</td>\n",
       "    </tr>\n",
       "  </tbody>\n",
       "</table>\n",
       "</div>"
      ],
      "text/plain": [
       "   Year      Country  Population  Income  Co2_per_person  Co2_sum\n",
       "0  1800  Afghanistan     3280000   603.0             NaN      NaN\n",
       "1  1801  Afghanistan     3280000   603.0             NaN      NaN\n",
       "2  1802  Afghanistan     3280000   603.0             NaN      NaN\n",
       "3  1803  Afghanistan     3280000   603.0             NaN      NaN\n",
       "4  1804  Afghanistan     3280000   603.0             NaN      NaN"
      ]
     },
     "execution_count": 63,
     "metadata": {},
     "output_type": "execute_result"
    }
   ],
   "source": [
    "melt_table.head()"
   ]
  },
  {
   "cell_type": "markdown",
   "metadata": {},
   "source": [
    "Run the visualisation from start to finish. \n",
    "(Hint: In Python, to speed up the animation, set timer bar next to the play/pause button to the minimum value.) Briefly describe any pattern on the data you observed.\n",
    "\n",
    "2.Is there generally a relationship between the amount of income and CO2 emissions in all countries during the whole period of time? What kind of relationship? Explain your answer.\n",
    "    2.1 Is the CO2 emissions generally increasing or decreasing during the whole period of time? How about income? Explain your answer.\n",
    "    2.2 Which country generally have the lowest CO2 emissions?\n",
    "    2.3 Which country has the highest CO2 emissions during the whole period of time?\n",
    "    \n",
    "3. Some countries’data only start in recent years, e.g. the data for Timor-Leste only starts in year 2002. Discuss how this might affect your observations.\n",
    "\n",
    "4. Now filter the data, use data from year 1990 to 2014 and choose only the countries Australia, China and United States. Run the motion chart again and discuss your finding.\n",
    "\n",
    "5. Any other interesting things you notice in the data? Support your answer with relevant python code and/or motion chart.\n",
    " "
   ]
  },
  {
   "cell_type": "markdown",
   "metadata": {},
   "source": [
    "2.1: Yes, it is. Co2 emission generally increasing durning whole perid of time. Simarily, Income increases in direct proportion to carbon dioxide emissions from the motion chart, I fount that most of bubbles(each country) are maintain an upword trend.\n",
    "\n",
    "2.2.\n",
    "\n",
    "2.3 By playing motion chart USA and China have the highest Co2 emission during the whole period time, as I play the motion chart before, I found that USA occupy the highest number of Co2 emission before approximatlly 2000, After 2000, China has surpass USA, occupying the highest number of Co2 emission.\n",
    "\n",
    "\n",
    "4.This motion chart only foucs on Austalia(yellow), China(blue) and USA(grey), I could easily find that during 1990 to 2014, the income in Australia and USA increase very fast compared with China, Simarily, these three countries Income increases in direct proportion to carbon dioxide emissions. Both income and the number of co2 commision increase obviously, Australia has fast increasing in income and lower growth of Co2 emission, China maintains high growth of Co2 emission and surpass USA at around 2000, but the income with China increase not very obvious compared with USA and Australia.\n",
    "\n",
    "5.I choose all country in the melt_table, treat population as a-xaxis, Income as y-axis to make a motion chart, and there is a potential rule that, the more population the country had the less income it will had. for example, China, India,Indonesia,USA which have the most population compare to other country, and these countries' income did not increase very fast. By comparision, other low population counties such as Austalia,Qatar,Singapore, they have higher income by the increase of year.\n"
   ]
  },
  {
   "cell_type": "code",
   "execution_count": 64,
   "metadata": {},
   "outputs": [],
   "source": [
    "#4\n",
    "countryMerge = pd.merge(ChinaMerge,USAMerge,on=['Year','Country','Income','Population','Co2_sum','Co2_per_person'],how='outer')"
   ]
  },
  {
   "cell_type": "code",
   "execution_count": 65,
   "metadata": {},
   "outputs": [],
   "source": [
    "countryMerge = pd.merge(countryMerge,AustraliaMerge,on=['Year','Country','Income','Population','Co2_sum','Co2_per_person'],how='outer')"
   ]
  },
  {
   "cell_type": "code",
   "execution_count": 66,
   "metadata": {},
   "outputs": [
    {
     "data": {
      "text/html": [
       "<div>\n",
       "<style scoped>\n",
       "    .dataframe tbody tr th:only-of-type {\n",
       "        vertical-align: middle;\n",
       "    }\n",
       "\n",
       "    .dataframe tbody tr th {\n",
       "        vertical-align: top;\n",
       "    }\n",
       "\n",
       "    .dataframe thead th {\n",
       "        text-align: right;\n",
       "    }\n",
       "</style>\n",
       "<table border=\"1\" class=\"dataframe\">\n",
       "  <thead>\n",
       "    <tr style=\"text-align: right;\">\n",
       "      <th></th>\n",
       "      <th>Year</th>\n",
       "      <th>Country</th>\n",
       "      <th>Population</th>\n",
       "      <th>Income</th>\n",
       "      <th>Co2_per_person</th>\n",
       "      <th>Co2_sum</th>\n",
       "    </tr>\n",
       "  </thead>\n",
       "  <tbody>\n",
       "    <tr>\n",
       "      <th>0</th>\n",
       "      <td>1800</td>\n",
       "      <td>China</td>\n",
       "      <td>322000000</td>\n",
       "      <td>984.0</td>\n",
       "      <td>NaN</td>\n",
       "      <td>NaN</td>\n",
       "    </tr>\n",
       "    <tr>\n",
       "      <th>1</th>\n",
       "      <td>1801</td>\n",
       "      <td>China</td>\n",
       "      <td>324000000</td>\n",
       "      <td>984.0</td>\n",
       "      <td>NaN</td>\n",
       "      <td>NaN</td>\n",
       "    </tr>\n",
       "    <tr>\n",
       "      <th>2</th>\n",
       "      <td>1802</td>\n",
       "      <td>China</td>\n",
       "      <td>327000000</td>\n",
       "      <td>984.0</td>\n",
       "      <td>NaN</td>\n",
       "      <td>NaN</td>\n",
       "    </tr>\n",
       "    <tr>\n",
       "      <th>3</th>\n",
       "      <td>1803</td>\n",
       "      <td>China</td>\n",
       "      <td>330000000</td>\n",
       "      <td>984.0</td>\n",
       "      <td>NaN</td>\n",
       "      <td>NaN</td>\n",
       "    </tr>\n",
       "    <tr>\n",
       "      <th>4</th>\n",
       "      <td>1804</td>\n",
       "      <td>China</td>\n",
       "      <td>333000000</td>\n",
       "      <td>984.0</td>\n",
       "      <td>NaN</td>\n",
       "      <td>NaN</td>\n",
       "    </tr>\n",
       "  </tbody>\n",
       "</table>\n",
       "</div>"
      ],
      "text/plain": [
       "   Year Country  Population  Income  Co2_per_person  Co2_sum\n",
       "0  1800   China   322000000   984.0             NaN      NaN\n",
       "1  1801   China   324000000   984.0             NaN      NaN\n",
       "2  1802   China   327000000   984.0             NaN      NaN\n",
       "3  1803   China   330000000   984.0             NaN      NaN\n",
       "4  1804   China   333000000   984.0             NaN      NaN"
      ]
     },
     "execution_count": 66,
     "metadata": {},
     "output_type": "execute_result"
    }
   ],
   "source": [
    "countryMerge.head()"
   ]
  },
  {
   "cell_type": "code",
   "execution_count": 67,
   "metadata": {},
   "outputs": [
    {
     "data": {
      "text/html": [
       "<div>\n",
       "<style scoped>\n",
       "    .dataframe tbody tr th:only-of-type {\n",
       "        vertical-align: middle;\n",
       "    }\n",
       "\n",
       "    .dataframe tbody tr th {\n",
       "        vertical-align: top;\n",
       "    }\n",
       "\n",
       "    .dataframe thead th {\n",
       "        text-align: right;\n",
       "    }\n",
       "</style>\n",
       "<table border=\"1\" class=\"dataframe\">\n",
       "  <thead>\n",
       "    <tr style=\"text-align: right;\">\n",
       "      <th></th>\n",
       "      <th>Year</th>\n",
       "      <th>Country</th>\n",
       "      <th>Population</th>\n",
       "      <th>Income</th>\n",
       "      <th>Co2_per_person</th>\n",
       "      <th>Co2_sum</th>\n",
       "    </tr>\n",
       "  </thead>\n",
       "  <tbody>\n",
       "    <tr>\n",
       "      <th>190</th>\n",
       "      <td>1990</td>\n",
       "      <td>China</td>\n",
       "      <td>1170000000</td>\n",
       "      <td>1530.0</td>\n",
       "      <td>2.08</td>\n",
       "      <td>2.433600e+09</td>\n",
       "    </tr>\n",
       "    <tr>\n",
       "      <th>191</th>\n",
       "      <td>1991</td>\n",
       "      <td>China</td>\n",
       "      <td>1190000000</td>\n",
       "      <td>1650.0</td>\n",
       "      <td>2.16</td>\n",
       "      <td>2.570400e+09</td>\n",
       "    </tr>\n",
       "    <tr>\n",
       "      <th>192</th>\n",
       "      <td>1992</td>\n",
       "      <td>China</td>\n",
       "      <td>1200000000</td>\n",
       "      <td>1860.0</td>\n",
       "      <td>2.23</td>\n",
       "      <td>2.676000e+09</td>\n",
       "    </tr>\n",
       "    <tr>\n",
       "      <th>193</th>\n",
       "      <td>1993</td>\n",
       "      <td>China</td>\n",
       "      <td>1220000000</td>\n",
       "      <td>2090.0</td>\n",
       "      <td>2.37</td>\n",
       "      <td>2.891400e+09</td>\n",
       "    </tr>\n",
       "    <tr>\n",
       "      <th>194</th>\n",
       "      <td>1994</td>\n",
       "      <td>China</td>\n",
       "      <td>1230000000</td>\n",
       "      <td>2340.0</td>\n",
       "      <td>2.49</td>\n",
       "      <td>3.062700e+09</td>\n",
       "    </tr>\n",
       "    <tr>\n",
       "      <th>195</th>\n",
       "      <td>1995</td>\n",
       "      <td>China</td>\n",
       "      <td>1240000000</td>\n",
       "      <td>2560.0</td>\n",
       "      <td>2.68</td>\n",
       "      <td>3.323200e+09</td>\n",
       "    </tr>\n",
       "    <tr>\n",
       "      <th>196</th>\n",
       "      <td>1996</td>\n",
       "      <td>China</td>\n",
       "      <td>1250000000</td>\n",
       "      <td>2790.0</td>\n",
       "      <td>2.77</td>\n",
       "      <td>3.462500e+09</td>\n",
       "    </tr>\n",
       "    <tr>\n",
       "      <th>197</th>\n",
       "      <td>1997</td>\n",
       "      <td>China</td>\n",
       "      <td>1260000000</td>\n",
       "      <td>3020.0</td>\n",
       "      <td>2.76</td>\n",
       "      <td>3.477600e+09</td>\n",
       "    </tr>\n",
       "    <tr>\n",
       "      <th>198</th>\n",
       "      <td>1998</td>\n",
       "      <td>China</td>\n",
       "      <td>1270000000</td>\n",
       "      <td>3220.0</td>\n",
       "      <td>2.62</td>\n",
       "      <td>3.327400e+09</td>\n",
       "    </tr>\n",
       "    <tr>\n",
       "      <th>199</th>\n",
       "      <td>1999</td>\n",
       "      <td>China</td>\n",
       "      <td>1280000000</td>\n",
       "      <td>3440.0</td>\n",
       "      <td>2.60</td>\n",
       "      <td>3.328000e+09</td>\n",
       "    </tr>\n",
       "    <tr>\n",
       "      <th>200</th>\n",
       "      <td>2000</td>\n",
       "      <td>China</td>\n",
       "      <td>1280000000</td>\n",
       "      <td>3700.0</td>\n",
       "      <td>2.65</td>\n",
       "      <td>3.392000e+09</td>\n",
       "    </tr>\n",
       "    <tr>\n",
       "      <th>201</th>\n",
       "      <td>2001</td>\n",
       "      <td>China</td>\n",
       "      <td>1290000000</td>\n",
       "      <td>3980.0</td>\n",
       "      <td>2.70</td>\n",
       "      <td>3.483000e+09</td>\n",
       "    </tr>\n",
       "    <tr>\n",
       "      <th>202</th>\n",
       "      <td>2002</td>\n",
       "      <td>China</td>\n",
       "      <td>1300000000</td>\n",
       "      <td>4320.0</td>\n",
       "      <td>2.96</td>\n",
       "      <td>3.848000e+09</td>\n",
       "    </tr>\n",
       "    <tr>\n",
       "      <th>203</th>\n",
       "      <td>2003</td>\n",
       "      <td>China</td>\n",
       "      <td>1310000000</td>\n",
       "      <td>4720.0</td>\n",
       "      <td>3.48</td>\n",
       "      <td>4.558800e+09</td>\n",
       "    </tr>\n",
       "    <tr>\n",
       "      <th>204</th>\n",
       "      <td>2004</td>\n",
       "      <td>China</td>\n",
       "      <td>1310000000</td>\n",
       "      <td>5170.0</td>\n",
       "      <td>3.98</td>\n",
       "      <td>5.213800e+09</td>\n",
       "    </tr>\n",
       "    <tr>\n",
       "      <th>205</th>\n",
       "      <td>2005</td>\n",
       "      <td>China</td>\n",
       "      <td>1320000000</td>\n",
       "      <td>5720.0</td>\n",
       "      <td>4.46</td>\n",
       "      <td>5.887200e+09</td>\n",
       "    </tr>\n",
       "    <tr>\n",
       "      <th>206</th>\n",
       "      <td>2006</td>\n",
       "      <td>China</td>\n",
       "      <td>1330000000</td>\n",
       "      <td>6410.0</td>\n",
       "      <td>4.91</td>\n",
       "      <td>6.530300e+09</td>\n",
       "    </tr>\n",
       "    <tr>\n",
       "      <th>207</th>\n",
       "      <td>2007</td>\n",
       "      <td>China</td>\n",
       "      <td>1340000000</td>\n",
       "      <td>7290.0</td>\n",
       "      <td>5.26</td>\n",
       "      <td>7.048400e+09</td>\n",
       "    </tr>\n",
       "    <tr>\n",
       "      <th>208</th>\n",
       "      <td>2008</td>\n",
       "      <td>China</td>\n",
       "      <td>1340000000</td>\n",
       "      <td>7950.0</td>\n",
       "      <td>5.62</td>\n",
       "      <td>7.530800e+09</td>\n",
       "    </tr>\n",
       "    <tr>\n",
       "      <th>209</th>\n",
       "      <td>2009</td>\n",
       "      <td>China</td>\n",
       "      <td>1350000000</td>\n",
       "      <td>8650.0</td>\n",
       "      <td>5.92</td>\n",
       "      <td>7.992000e+09</td>\n",
       "    </tr>\n",
       "    <tr>\n",
       "      <th>210</th>\n",
       "      <td>2010</td>\n",
       "      <td>China</td>\n",
       "      <td>1360000000</td>\n",
       "      <td>9530.0</td>\n",
       "      <td>6.45</td>\n",
       "      <td>8.772000e+09</td>\n",
       "    </tr>\n",
       "    <tr>\n",
       "      <th>211</th>\n",
       "      <td>2011</td>\n",
       "      <td>China</td>\n",
       "      <td>1370000000</td>\n",
       "      <td>10400.0</td>\n",
       "      <td>7.12</td>\n",
       "      <td>9.754400e+09</td>\n",
       "    </tr>\n",
       "    <tr>\n",
       "      <th>212</th>\n",
       "      <td>2012</td>\n",
       "      <td>China</td>\n",
       "      <td>1380000000</td>\n",
       "      <td>11100.0</td>\n",
       "      <td>7.29</td>\n",
       "      <td>1.006020e+10</td>\n",
       "    </tr>\n",
       "    <tr>\n",
       "      <th>213</th>\n",
       "      <td>2013</td>\n",
       "      <td>China</td>\n",
       "      <td>1380000000</td>\n",
       "      <td>12000.0</td>\n",
       "      <td>7.42</td>\n",
       "      <td>1.023960e+10</td>\n",
       "    </tr>\n",
       "    <tr>\n",
       "      <th>214</th>\n",
       "      <td>2014</td>\n",
       "      <td>China</td>\n",
       "      <td>1390000000</td>\n",
       "      <td>12800.0</td>\n",
       "      <td>7.40</td>\n",
       "      <td>1.028600e+10</td>\n",
       "    </tr>\n",
       "    <tr>\n",
       "      <th>409</th>\n",
       "      <td>1990</td>\n",
       "      <td>United States</td>\n",
       "      <td>253000000</td>\n",
       "      <td>37100.0</td>\n",
       "      <td>19.10</td>\n",
       "      <td>4.832300e+09</td>\n",
       "    </tr>\n",
       "    <tr>\n",
       "      <th>410</th>\n",
       "      <td>1991</td>\n",
       "      <td>United States</td>\n",
       "      <td>255000000</td>\n",
       "      <td>36500.0</td>\n",
       "      <td>18.90</td>\n",
       "      <td>4.819500e+09</td>\n",
       "    </tr>\n",
       "    <tr>\n",
       "      <th>411</th>\n",
       "      <td>1992</td>\n",
       "      <td>United States</td>\n",
       "      <td>257000000</td>\n",
       "      <td>37300.0</td>\n",
       "      <td>19.10</td>\n",
       "      <td>4.908700e+09</td>\n",
       "    </tr>\n",
       "    <tr>\n",
       "      <th>412</th>\n",
       "      <td>1993</td>\n",
       "      <td>United States</td>\n",
       "      <td>260000000</td>\n",
       "      <td>37800.0</td>\n",
       "      <td>19.30</td>\n",
       "      <td>5.018000e+09</td>\n",
       "    </tr>\n",
       "    <tr>\n",
       "      <th>413</th>\n",
       "      <td>1994</td>\n",
       "      <td>United States</td>\n",
       "      <td>263000000</td>\n",
       "      <td>38900.0</td>\n",
       "      <td>19.40</td>\n",
       "      <td>5.102200e+09</td>\n",
       "    </tr>\n",
       "    <tr>\n",
       "      <th>...</th>\n",
       "      <td>...</td>\n",
       "      <td>...</td>\n",
       "      <td>...</td>\n",
       "      <td>...</td>\n",
       "      <td>...</td>\n",
       "      <td>...</td>\n",
       "    </tr>\n",
       "    <tr>\n",
       "      <th>429</th>\n",
       "      <td>2010</td>\n",
       "      <td>United States</td>\n",
       "      <td>309000000</td>\n",
       "      <td>49400.0</td>\n",
       "      <td>17.50</td>\n",
       "      <td>5.407500e+09</td>\n",
       "    </tr>\n",
       "    <tr>\n",
       "      <th>430</th>\n",
       "      <td>2011</td>\n",
       "      <td>United States</td>\n",
       "      <td>311000000</td>\n",
       "      <td>49800.0</td>\n",
       "      <td>17.00</td>\n",
       "      <td>5.287000e+09</td>\n",
       "    </tr>\n",
       "    <tr>\n",
       "      <th>431</th>\n",
       "      <td>2012</td>\n",
       "      <td>United States</td>\n",
       "      <td>313000000</td>\n",
       "      <td>50500.0</td>\n",
       "      <td>16.30</td>\n",
       "      <td>5.101900e+09</td>\n",
       "    </tr>\n",
       "    <tr>\n",
       "      <th>432</th>\n",
       "      <td>2013</td>\n",
       "      <td>United States</td>\n",
       "      <td>316000000</td>\n",
       "      <td>51000.0</td>\n",
       "      <td>16.40</td>\n",
       "      <td>5.182400e+09</td>\n",
       "    </tr>\n",
       "    <tr>\n",
       "      <th>433</th>\n",
       "      <td>2014</td>\n",
       "      <td>United States</td>\n",
       "      <td>318000000</td>\n",
       "      <td>51800.0</td>\n",
       "      <td>16.50</td>\n",
       "      <td>5.247000e+09</td>\n",
       "    </tr>\n",
       "    <tr>\n",
       "      <th>628</th>\n",
       "      <td>1990</td>\n",
       "      <td>Australia</td>\n",
       "      <td>17000000</td>\n",
       "      <td>28600.0</td>\n",
       "      <td>15.50</td>\n",
       "      <td>2.635000e+08</td>\n",
       "    </tr>\n",
       "    <tr>\n",
       "      <th>629</th>\n",
       "      <td>1991</td>\n",
       "      <td>Australia</td>\n",
       "      <td>17300000</td>\n",
       "      <td>28100.0</td>\n",
       "      <td>15.10</td>\n",
       "      <td>2.612300e+08</td>\n",
       "    </tr>\n",
       "    <tr>\n",
       "      <th>630</th>\n",
       "      <td>1992</td>\n",
       "      <td>Australia</td>\n",
       "      <td>17500000</td>\n",
       "      <td>27900.0</td>\n",
       "      <td>15.30</td>\n",
       "      <td>2.677500e+08</td>\n",
       "    </tr>\n",
       "    <tr>\n",
       "      <th>631</th>\n",
       "      <td>1993</td>\n",
       "      <td>Australia</td>\n",
       "      <td>17700000</td>\n",
       "      <td>28700.0</td>\n",
       "      <td>15.70</td>\n",
       "      <td>2.778900e+08</td>\n",
       "    </tr>\n",
       "    <tr>\n",
       "      <th>632</th>\n",
       "      <td>1994</td>\n",
       "      <td>Australia</td>\n",
       "      <td>17900000</td>\n",
       "      <td>29600.0</td>\n",
       "      <td>15.60</td>\n",
       "      <td>2.792400e+08</td>\n",
       "    </tr>\n",
       "    <tr>\n",
       "      <th>633</th>\n",
       "      <td>1995</td>\n",
       "      <td>Australia</td>\n",
       "      <td>18100000</td>\n",
       "      <td>30400.0</td>\n",
       "      <td>15.60</td>\n",
       "      <td>2.823600e+08</td>\n",
       "    </tr>\n",
       "    <tr>\n",
       "      <th>634</th>\n",
       "      <td>1996</td>\n",
       "      <td>Australia</td>\n",
       "      <td>18300000</td>\n",
       "      <td>31200.0</td>\n",
       "      <td>16.50</td>\n",
       "      <td>3.019500e+08</td>\n",
       "    </tr>\n",
       "    <tr>\n",
       "      <th>635</th>\n",
       "      <td>1997</td>\n",
       "      <td>Australia</td>\n",
       "      <td>18500000</td>\n",
       "      <td>32000.0</td>\n",
       "      <td>16.60</td>\n",
       "      <td>3.071000e+08</td>\n",
       "    </tr>\n",
       "    <tr>\n",
       "      <th>636</th>\n",
       "      <td>1998</td>\n",
       "      <td>Australia</td>\n",
       "      <td>18700000</td>\n",
       "      <td>33100.0</td>\n",
       "      <td>17.00</td>\n",
       "      <td>3.179000e+08</td>\n",
       "    </tr>\n",
       "    <tr>\n",
       "      <th>637</th>\n",
       "      <td>1999</td>\n",
       "      <td>Australia</td>\n",
       "      <td>18900000</td>\n",
       "      <td>34400.0</td>\n",
       "      <td>17.20</td>\n",
       "      <td>3.250800e+08</td>\n",
       "    </tr>\n",
       "    <tr>\n",
       "      <th>638</th>\n",
       "      <td>2000</td>\n",
       "      <td>Australia</td>\n",
       "      <td>19100000</td>\n",
       "      <td>35300.0</td>\n",
       "      <td>17.30</td>\n",
       "      <td>3.304300e+08</td>\n",
       "    </tr>\n",
       "    <tr>\n",
       "      <th>639</th>\n",
       "      <td>2001</td>\n",
       "      <td>Australia</td>\n",
       "      <td>19300000</td>\n",
       "      <td>35500.0</td>\n",
       "      <td>16.90</td>\n",
       "      <td>3.261700e+08</td>\n",
       "    </tr>\n",
       "    <tr>\n",
       "      <th>640</th>\n",
       "      <td>2002</td>\n",
       "      <td>Australia</td>\n",
       "      <td>19500000</td>\n",
       "      <td>36400.0</td>\n",
       "      <td>17.50</td>\n",
       "      <td>3.412500e+08</td>\n",
       "    </tr>\n",
       "    <tr>\n",
       "      <th>641</th>\n",
       "      <td>2003</td>\n",
       "      <td>Australia</td>\n",
       "      <td>19700000</td>\n",
       "      <td>37100.0</td>\n",
       "      <td>17.10</td>\n",
       "      <td>3.368700e+08</td>\n",
       "    </tr>\n",
       "    <tr>\n",
       "      <th>642</th>\n",
       "      <td>2004</td>\n",
       "      <td>Australia</td>\n",
       "      <td>19900000</td>\n",
       "      <td>38100.0</td>\n",
       "      <td>17.20</td>\n",
       "      <td>3.422800e+08</td>\n",
       "    </tr>\n",
       "    <tr>\n",
       "      <th>643</th>\n",
       "      <td>2005</td>\n",
       "      <td>Australia</td>\n",
       "      <td>20200000</td>\n",
       "      <td>38900.0</td>\n",
       "      <td>17.30</td>\n",
       "      <td>3.494600e+08</td>\n",
       "    </tr>\n",
       "    <tr>\n",
       "      <th>644</th>\n",
       "      <td>2006</td>\n",
       "      <td>Australia</td>\n",
       "      <td>20600000</td>\n",
       "      <td>39400.0</td>\n",
       "      <td>17.80</td>\n",
       "      <td>3.666800e+08</td>\n",
       "    </tr>\n",
       "    <tr>\n",
       "      <th>645</th>\n",
       "      <td>2007</td>\n",
       "      <td>Australia</td>\n",
       "      <td>20900000</td>\n",
       "      <td>40700.0</td>\n",
       "      <td>17.80</td>\n",
       "      <td>3.720200e+08</td>\n",
       "    </tr>\n",
       "    <tr>\n",
       "      <th>646</th>\n",
       "      <td>2008</td>\n",
       "      <td>Australia</td>\n",
       "      <td>21300000</td>\n",
       "      <td>41300.0</td>\n",
       "      <td>18.10</td>\n",
       "      <td>3.855300e+08</td>\n",
       "    </tr>\n",
       "    <tr>\n",
       "      <th>647</th>\n",
       "      <td>2009</td>\n",
       "      <td>Australia</td>\n",
       "      <td>21700000</td>\n",
       "      <td>41200.0</td>\n",
       "      <td>18.20</td>\n",
       "      <td>3.949400e+08</td>\n",
       "    </tr>\n",
       "    <tr>\n",
       "      <th>648</th>\n",
       "      <td>2010</td>\n",
       "      <td>Australia</td>\n",
       "      <td>22100000</td>\n",
       "      <td>41400.0</td>\n",
       "      <td>17.70</td>\n",
       "      <td>3.911700e+08</td>\n",
       "    </tr>\n",
       "    <tr>\n",
       "      <th>649</th>\n",
       "      <td>2011</td>\n",
       "      <td>Australia</td>\n",
       "      <td>22500000</td>\n",
       "      <td>41800.0</td>\n",
       "      <td>17.40</td>\n",
       "      <td>3.915000e+08</td>\n",
       "    </tr>\n",
       "    <tr>\n",
       "      <th>650</th>\n",
       "      <td>2012</td>\n",
       "      <td>Australia</td>\n",
       "      <td>22800000</td>\n",
       "      <td>42600.0</td>\n",
       "      <td>17.00</td>\n",
       "      <td>3.876000e+08</td>\n",
       "    </tr>\n",
       "    <tr>\n",
       "      <th>651</th>\n",
       "      <td>2013</td>\n",
       "      <td>Australia</td>\n",
       "      <td>23200000</td>\n",
       "      <td>42900.0</td>\n",
       "      <td>16.10</td>\n",
       "      <td>3.735200e+08</td>\n",
       "    </tr>\n",
       "    <tr>\n",
       "      <th>652</th>\n",
       "      <td>2014</td>\n",
       "      <td>Australia</td>\n",
       "      <td>23500000</td>\n",
       "      <td>43400.0</td>\n",
       "      <td>15.40</td>\n",
       "      <td>3.619000e+08</td>\n",
       "    </tr>\n",
       "  </tbody>\n",
       "</table>\n",
       "<p>75 rows × 6 columns</p>\n",
       "</div>"
      ],
      "text/plain": [
       "     Year        Country  Population   Income  Co2_per_person       Co2_sum\n",
       "190  1990          China  1170000000   1530.0            2.08  2.433600e+09\n",
       "191  1991          China  1190000000   1650.0            2.16  2.570400e+09\n",
       "192  1992          China  1200000000   1860.0            2.23  2.676000e+09\n",
       "193  1993          China  1220000000   2090.0            2.37  2.891400e+09\n",
       "194  1994          China  1230000000   2340.0            2.49  3.062700e+09\n",
       "195  1995          China  1240000000   2560.0            2.68  3.323200e+09\n",
       "196  1996          China  1250000000   2790.0            2.77  3.462500e+09\n",
       "197  1997          China  1260000000   3020.0            2.76  3.477600e+09\n",
       "198  1998          China  1270000000   3220.0            2.62  3.327400e+09\n",
       "199  1999          China  1280000000   3440.0            2.60  3.328000e+09\n",
       "200  2000          China  1280000000   3700.0            2.65  3.392000e+09\n",
       "201  2001          China  1290000000   3980.0            2.70  3.483000e+09\n",
       "202  2002          China  1300000000   4320.0            2.96  3.848000e+09\n",
       "203  2003          China  1310000000   4720.0            3.48  4.558800e+09\n",
       "204  2004          China  1310000000   5170.0            3.98  5.213800e+09\n",
       "205  2005          China  1320000000   5720.0            4.46  5.887200e+09\n",
       "206  2006          China  1330000000   6410.0            4.91  6.530300e+09\n",
       "207  2007          China  1340000000   7290.0            5.26  7.048400e+09\n",
       "208  2008          China  1340000000   7950.0            5.62  7.530800e+09\n",
       "209  2009          China  1350000000   8650.0            5.92  7.992000e+09\n",
       "210  2010          China  1360000000   9530.0            6.45  8.772000e+09\n",
       "211  2011          China  1370000000  10400.0            7.12  9.754400e+09\n",
       "212  2012          China  1380000000  11100.0            7.29  1.006020e+10\n",
       "213  2013          China  1380000000  12000.0            7.42  1.023960e+10\n",
       "214  2014          China  1390000000  12800.0            7.40  1.028600e+10\n",
       "409  1990  United States   253000000  37100.0           19.10  4.832300e+09\n",
       "410  1991  United States   255000000  36500.0           18.90  4.819500e+09\n",
       "411  1992  United States   257000000  37300.0           19.10  4.908700e+09\n",
       "412  1993  United States   260000000  37800.0           19.30  5.018000e+09\n",
       "413  1994  United States   263000000  38900.0           19.40  5.102200e+09\n",
       "..    ...            ...         ...      ...             ...           ...\n",
       "429  2010  United States   309000000  49400.0           17.50  5.407500e+09\n",
       "430  2011  United States   311000000  49800.0           17.00  5.287000e+09\n",
       "431  2012  United States   313000000  50500.0           16.30  5.101900e+09\n",
       "432  2013  United States   316000000  51000.0           16.40  5.182400e+09\n",
       "433  2014  United States   318000000  51800.0           16.50  5.247000e+09\n",
       "628  1990      Australia    17000000  28600.0           15.50  2.635000e+08\n",
       "629  1991      Australia    17300000  28100.0           15.10  2.612300e+08\n",
       "630  1992      Australia    17500000  27900.0           15.30  2.677500e+08\n",
       "631  1993      Australia    17700000  28700.0           15.70  2.778900e+08\n",
       "632  1994      Australia    17900000  29600.0           15.60  2.792400e+08\n",
       "633  1995      Australia    18100000  30400.0           15.60  2.823600e+08\n",
       "634  1996      Australia    18300000  31200.0           16.50  3.019500e+08\n",
       "635  1997      Australia    18500000  32000.0           16.60  3.071000e+08\n",
       "636  1998      Australia    18700000  33100.0           17.00  3.179000e+08\n",
       "637  1999      Australia    18900000  34400.0           17.20  3.250800e+08\n",
       "638  2000      Australia    19100000  35300.0           17.30  3.304300e+08\n",
       "639  2001      Australia    19300000  35500.0           16.90  3.261700e+08\n",
       "640  2002      Australia    19500000  36400.0           17.50  3.412500e+08\n",
       "641  2003      Australia    19700000  37100.0           17.10  3.368700e+08\n",
       "642  2004      Australia    19900000  38100.0           17.20  3.422800e+08\n",
       "643  2005      Australia    20200000  38900.0           17.30  3.494600e+08\n",
       "644  2006      Australia    20600000  39400.0           17.80  3.666800e+08\n",
       "645  2007      Australia    20900000  40700.0           17.80  3.720200e+08\n",
       "646  2008      Australia    21300000  41300.0           18.10  3.855300e+08\n",
       "647  2009      Australia    21700000  41200.0           18.20  3.949400e+08\n",
       "648  2010      Australia    22100000  41400.0           17.70  3.911700e+08\n",
       "649  2011      Australia    22500000  41800.0           17.40  3.915000e+08\n",
       "650  2012      Australia    22800000  42600.0           17.00  3.876000e+08\n",
       "651  2013      Australia    23200000  42900.0           16.10  3.735200e+08\n",
       "652  2014      Australia    23500000  43400.0           15.40  3.619000e+08\n",
       "\n",
       "[75 rows x 6 columns]"
      ]
     },
     "execution_count": 67,
     "metadata": {},
     "output_type": "execute_result"
    }
   ],
   "source": [
    "filter = (countryMerge.Year>=1990)&(countryMerge.Year<=2014)\n",
    "countryMerge[filter]"
   ]
  },
  {
   "cell_type": "code",
   "execution_count": 69,
   "metadata": {
    "scrolled": true
   },
   "outputs": [
    {
     "data": {
      "text/html": [
       "\n",
       "        <iframe\n",
       "            width=\"900\"\n",
       "            height=\"700\"\n",
       "            src=\"mc_temp.html\"\n",
       "            frameborder=\"0\"\n",
       "            allowfullscreen\n",
       "        ></iframe>\n",
       "        "
      ],
      "text/plain": [
       "<IPython.lib.display.IFrame at 0x185951d02e8>"
      ]
     },
     "metadata": {},
     "output_type": "display_data"
    }
   ],
   "source": [
    "mChart2 = MotionChart(df = countryMerge, key='Year', x='Co2_sum', y='Income' , xscale='linear', yscale='linear',\n",
    "                    size='Population',color=\"Country\")\n",
    "\n",
    "mChart2.to_notebook()"
   ]
  },
  {
   "cell_type": "code",
   "execution_count": 71,
   "metadata": {},
   "outputs": [
    {
     "data": {
      "text/html": [
       "\n",
       "        <iframe\n",
       "            width=\"900\"\n",
       "            height=\"700\"\n",
       "            src=\"mc_temp.html\"\n",
       "            frameborder=\"0\"\n",
       "            allowfullscreen\n",
       "        ></iframe>\n",
       "        "
      ],
      "text/plain": [
       "<IPython.lib.display.IFrame at 0x185951d00f0>"
      ]
     },
     "metadata": {},
     "output_type": "display_data"
    }
   ],
   "source": [
    "#5\n",
    "mChart3 = MotionChart(df = melt_table, key='Year', x='Population', y='Income' , xscale='linear', yscale='linear',\n",
    "                    )\n",
    "\n",
    "mChart3.to_notebook()"
   ]
  },
  {
   "cell_type": "code",
   "execution_count": null,
   "metadata": {},
   "outputs": [],
   "source": []
  }
 ],
 "metadata": {
  "kernelspec": {
   "display_name": "Python 3",
   "language": "python",
   "name": "python3"
  },
  "language_info": {
   "codemirror_mode": {
    "name": "ipython",
    "version": 3
   },
   "file_extension": ".py",
   "mimetype": "text/x-python",
   "name": "python",
   "nbconvert_exporter": "python",
   "pygments_lexer": "ipython3",
   "version": "3.6.4"
  }
 },
 "nbformat": 4,
 "nbformat_minor": 2
}
