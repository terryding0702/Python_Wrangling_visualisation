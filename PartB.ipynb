{
 "cells": [
  {
   "cell_type": "code",
   "execution_count": null,
   "metadata": {},
   "outputs": [],
   "source": [
    "import pandas as pd\n",
    "import numpy as np\n",
    "import matplotlib.pyplot as plt\n",
    "from scipy.stats import linregress\n",
    "from motionchart.motionchart import MotionChart\n",
    "%matplotlib inline\n",
    "#https://data.qld.gov.au/dataset/crash-data-from-queensland-roads/resource/3fc53539-d529-4c1d-85f8-6c92d9e06fc8"
   ]
  },
  {
   "cell_type": "markdown",
   "metadata": {},
   "source": [
    "1.How many rows and columns are there?\n",
    "    There are 21285 rows and 7 columns.\n",
    "   "
   ]
  },
  {
   "cell_type": "code",
   "execution_count": null,
   "metadata": {},
   "outputs": [],
   "source": [
    "road = pd.read_csv(\"roadcasualties.csv\")\n",
    "road.shape"
   ]
  },
  {
   "cell_type": "code",
   "execution_count": null,
   "metadata": {
    "scrolled": true
   },
   "outputs": [],
   "source": [
    "road.head()"
   ]
  },
  {
   "cell_type": "markdown",
   "metadata": {},
   "source": [
    "2.How many years does the data cover? \n",
    "    Three years, from 2001 to 2017."
   ]
  },
  {
   "cell_type": "code",
   "execution_count": null,
   "metadata": {},
   "outputs": [],
   "source": [
    "road.Crash_Year.unique()"
   ]
  },
  {
   "cell_type": "markdown",
   "metadata": {},
   "source": [
    "3.In Python plot the highest number of casualty within each Police_region in Queensland over time."
   ]
  },
  {
   "cell_type": "code",
   "execution_count": null,
   "metadata": {
    "scrolled": true
   },
   "outputs": [],
   "source": [
    "fig, ax = plt.subplots(figsize = (16,8))\n",
    "x = road['Crash_Police_Region']\n",
    "y = road['Casualty_Count']\n",
    "width = 0.4\n",
    "ax.bar(x, y, width)\n",
    "ax.set_title('The highest number of Casualty over each Region in Queensland over time(2001-2017)',fontsize = 20)\n",
    "ax.set_xlabel('Police_Region', fontsize = 15)\n",
    "plt.xticks(rotation=50)\n",
    "ax.set_ylabel('Number of Casualty', fontsize = 15)"
   ]
  },
  {
   "cell_type": "markdown",
   "metadata": {},
   "source": [
    "# 4."
   ]
  },
  {
   "cell_type": "markdown",
   "metadata": {},
   "source": [
    "4.In Python plot the highest number of casualty with both Male and Female within central Queensland over time \n",
    "    Find out the year which cause highest number of Hospitalised causalitied and Analyse the overall trend."
   ]
  },
  {
   "cell_type": "code",
   "execution_count": null,
   "metadata": {},
   "outputs": [],
   "source": [
    "central = road[road['Crash_Police_Region'].isin(['Central'])]\n",
    "filter1 = (central.Casualty_Severity == 'Hospitalised')&(central.Casualty_Gender == 'Male')\n",
    "filter2 = (central.Casualty_Severity == 'Hospitalised')&(central.Casualty_Gender == 'Female')"
   ]
  },
  {
   "cell_type": "code",
   "execution_count": null,
   "metadata": {},
   "outputs": [],
   "source": [
    "central1 = central[filter1]#Male\n",
    "central2 = central[filter2]#Female"
   ]
  },
  {
   "cell_type": "code",
   "execution_count": null,
   "metadata": {},
   "outputs": [],
   "source": [
    "#Male plot \n",
    "fig, ax = plt.subplots(figsize = (16,8))\n",
    "x = central1[\"Crash_Year\"]\n",
    "y = central1['Casualty_Count']\n",
    "width = 0.4\n",
    "ax.bar(x, y, width)\n",
    "ax.set_title('Number of Casualty over Region in central region over time(2001-2017)--Male',fontsize = 20)\n",
    "ax.set_xlabel('Year', fontsize = 15)\n",
    "plt.xticks(rotation=50)\n",
    "ax.set_ylabel(\"Number of 'Hospitalised' Casualty\", fontsize = 15)"
   ]
  },
  {
   "cell_type": "code",
   "execution_count": null,
   "metadata": {
    "scrolled": true
   },
   "outputs": [],
   "source": [
    "#Female plot\n",
    "fig, ax = plt.subplots(figsize = (16,8))\n",
    "x = central2[\"Crash_Year\"]\n",
    "y = central2['Casualty_Count']\n",
    "width = 0.4\n",
    "ax.bar(x, y, width)\n",
    "ax.set_title('Number of Casualty with over Region in central region over time(2001-2017)--Female',fontsize = 20)\n",
    "ax.set_xlabel('Year', fontsize = 15)\n",
    "plt.xticks(rotation=50)\n",
    "ax.set_ylabel(\"Number of 'Hospitalised' Casualty\", fontsize = 15)"
   ]
  },
  {
   "cell_type": "markdown",
   "metadata": {},
   "source": [
    "These two bar chart shows the number of casualty which cause male and women serious injury in Central region over time (2001-2017), I found that Male and Female have the simiarly tendency. Femal cause lower serious injury before year of 2005, Moreover,In 2013 Both Male and Femal in central of Queensland has the highest number of hospitalised casualties which are more than 120. "
   ]
  },
  {
   "cell_type": "markdown",
   "metadata": {},
   "source": [
    "# 5."
   ]
  },
  {
   "cell_type": "markdown",
   "metadata": {},
   "source": [
    "5.In Python using motion Chart to find out which kind of road user type cause the highest casualty in the region of central Queensland over the period of time?"
   ]
  },
  {
   "cell_type": "code",
   "execution_count": null,
   "metadata": {},
   "outputs": [],
   "source": [
    "central.head()"
   ]
  },
  {
   "cell_type": "code",
   "execution_count": null,
   "metadata": {},
   "outputs": [],
   "source": [
    "fun = {'Casualty_Count':{'Casualty_Count':'count'}}\n",
    "centralYear = central.groupby(['Crash_Year','Casualty_RoadUserType'\t]).agg(fun).reset_index()"
   ]
  },
  {
   "cell_type": "code",
   "execution_count": null,
   "metadata": {},
   "outputs": [],
   "source": [
    "centralYear.columns = centralYear.columns.droplevel(0)\n",
    "centralYear.columns = ['Year','RoadUserType','Casualty_Count']"
   ]
  },
  {
   "cell_type": "code",
   "execution_count": null,
   "metadata": {},
   "outputs": [],
   "source": [
    "centralYear.head()"
   ]
  },
  {
   "cell_type": "code",
   "execution_count": null,
   "metadata": {},
   "outputs": [],
   "source": [
    "%%html\n",
    "<style>\n",
    ".output_wrapper, .output {\n",
    "    height:auto !important;\n",
    "    max-height:1000px;  /* your desired max-height here */\n",
    "}\n",
    ".output_scroll {\n",
    "    box-shadow:none !important;\n",
    "    webkit-box-shadow:none !important;\n",
    "}\n",
    "</style>"
   ]
  },
  {
   "cell_type": "code",
   "execution_count": null,
   "metadata": {
    "scrolled": true
   },
   "outputs": [],
   "source": [
    "mChart4 = MotionChart(df = centralYear, key='Year', x='Year', y='Casualty_Count', xscale='linear', yscale='linear',size = 'Casualty_Count',\n",
    "                      color='RoadUserType')\n",
    "\n",
    "mChart4.to_notebook()"
   ]
  },
  {
   "cell_type": "markdown",
   "metadata": {},
   "source": [
    "Through this motion chart above, I could easily found that Passengers and drivers are the most causalities groups, pedestrain,motocyclist and bycyclist maintain the stable accidents rate which does not fluctuate very much, 'other' road user type always occupy the lowest situation in causing casualties."
   ]
  },
  {
   "cell_type": "markdown",
   "metadata": {},
   "source": [
    "# 6"
   ]
  },
  {
   "cell_type": "markdown",
   "metadata": {},
   "source": [
    "6.Find the causalty increase/decrease tendency in Central,Brisbane,Southern of Queensland,by comapring and justified your finding."
   ]
  },
  {
   "cell_type": "code",
   "execution_count": null,
   "metadata": {},
   "outputs": [],
   "source": [
    "fun = {'Casualty_Count':{'Casualty_Count':'count'}}\n",
    "roadClass = road.groupby(['Crash_Year','Crash_Police_Region']).agg(fun).reset_index()"
   ]
  },
  {
   "cell_type": "code",
   "execution_count": null,
   "metadata": {},
   "outputs": [],
   "source": [
    "roadClass.columns = roadClass.columns.droplevel(0)\n",
    "roadClass.columns = ['Year','Region','Casualty_Count']"
   ]
  },
  {
   "cell_type": "code",
   "execution_count": null,
   "metadata": {},
   "outputs": [],
   "source": [
    "filter1 = (roadClass['Region']=='Brisbane')\n",
    "filter2 = (roadClass['Region']=='Central')\n",
    "filter3 = (roadClass['Region']=='Southern')\n",
    "filterBrisbane = roadClass[filter1]\n",
    "filterCentral = roadClass[filter2]\n",
    "filterSouthern = roadClass[filter3]\n",
    "filterBrisbane.rename(columns={'Casualty_Count':'Brisbane_CausaltyCount'},inplace=True)\n",
    "filterCentral.rename(columns={'Casualty_Count':'Central_CausaltyCount'},inplace=True)\n",
    "filterSouthern.rename(columns={'Casualty_Count':'Southern_CausaltyCount'},inplace=True)"
   ]
  },
  {
   "cell_type": "code",
   "execution_count": null,
   "metadata": {},
   "outputs": [],
   "source": [
    "plt.figure(figsize = (15,6))\n",
    "plt.plot(filterBrisbane['Year'],filterBrisbane['Brisbane_CausaltyCount']),\n",
    "plt.plot(filterCentral['Year'],filterCentral['Central_CausaltyCount']),\n",
    "plt.plot(filterSouthern['Year'],filterSouthern['Southern_CausaltyCount']),\n",
    "plt.legend()\n",
    "plt.title(\"Causalty count in Brisbane, Central, Southern of Queensland over time \", fontsize = 20)\n",
    "plt.xlabel(\"Year\", fontsize = 15)\n",
    "plt.ylabel(\"Causalty count\", fontsize = 15)\n",
    "plt.show()"
   ]
  },
  {
   "cell_type": "markdown",
   "metadata": {},
   "source": [
    "Through this line chart above, it is obviously that causalty happened lower in the place of sourthern of Queenslands, the tendency in each place shows not very clearly, but the trend goes down by overall detecting. In the central of Queensland the number of Causalties became less compare previous years, in the year of 2015, the causalty count dropped to the lowest position. "
   ]
  },
  {
   "cell_type": "markdown",
   "metadata": {},
   "source": [
    "# 7"
   ]
  },
  {
   "cell_type": "markdown",
   "metadata": {},
   "source": [
    "7. Fit a linear regression to the sum of causalty each year in Brisbane and plot it, try to do some prediction in 2020 and 2100 year.Are these prediction trustworthy?"
   ]
  },
  {
   "cell_type": "code",
   "execution_count": null,
   "metadata": {},
   "outputs": [],
   "source": [
    "y = filterBrisbane['Brisbane_CausaltyCount']\n",
    "x = filterBrisbane['Year']"
   ]
  },
  {
   "cell_type": "code",
   "execution_count": null,
   "metadata": {},
   "outputs": [],
   "source": [
    "slope, intercept, r_value, p_value, std_err = linregress(x,y)"
   ]
  },
  {
   "cell_type": "code",
   "execution_count": null,
   "metadata": {
    "scrolled": true
   },
   "outputs": [],
   "source": [
    "plt.plot(x, y, 'o', label='original data')\n",
    "plt.plot(x, intercept + slope*x, 'r', label='fitted line',linewidth=3)\n",
    "plt.xlabel(\"Year\",fontsize=14)\n",
    "plt.ylabel(\"Brisbane_CausaltyCoun\",fontsize=14)"
   ]
  },
  {
   "cell_type": "code",
   "execution_count": null,
   "metadata": {},
   "outputs": [],
   "source": [
    "p2020 = slope*2020 +intercept \n",
    "p2020"
   ]
  },
  {
   "cell_type": "code",
   "execution_count": null,
   "metadata": {},
   "outputs": [],
   "source": [
    "p2100 = slope*2100 +intercept \n",
    "p2100"
   ]
  },
  {
   "cell_type": "markdown",
   "metadata": {},
   "source": [
    "This scatter chart shows the distribution with the number of causality over time in Brisbane, depend on the linear regression, I can easily get the knowledge that the trend of casualties happened has been decrease obviously. Moreover, base on the fit, I get the prediction that in 2020 the number of casualties become 252.88480392156862 and in 2100 the data will drop to 207.9828431372548. In my opinion, these prediction probably trustworthy because the dataset given is comprehensive which does not include some unknown data(Nan)."
   ]
  },
  {
   "cell_type": "code",
   "execution_count": null,
   "metadata": {},
   "outputs": [],
   "source": []
  }
 ],
 "metadata": {
  "kernelspec": {
   "display_name": "Python 3",
   "language": "python",
   "name": "python3"
  },
  "language_info": {
   "codemirror_mode": {
    "name": "ipython",
    "version": 3
   },
   "file_extension": ".py",
   "mimetype": "text/x-python",
   "name": "python",
   "nbconvert_exporter": "python",
   "pygments_lexer": "ipython3",
   "version": "3.6.4"
  }
 },
 "nbformat": 4,
 "nbformat_minor": 2
}
